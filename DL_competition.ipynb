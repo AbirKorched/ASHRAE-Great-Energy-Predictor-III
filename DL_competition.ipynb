{
  "nbformat": 4,
  "nbformat_minor": 0,
  "metadata": {
    "colab": {
      "name": "dl_competitionLog1p.ipynb",
      "provenance": [],
      "collapsed_sections": [
        "nk67up3B4cOl",
        "1gdpwM_s7rFE",
        "puuGskFN8Yj-",
        "Pp2IsVz-9l5R",
        "IF8REX61sJY9",
        "wpQOXeYw1nHW",
        "V2v5_gsm13SS",
        "SvDXShRh19-O",
        "RA_uaSSs2HYX",
        "Sr-hngta2NJ0",
        "TRXmV4yc0X5a"
      ],
      "machine_shape": "hm"
    },
    "kernelspec": {
      "name": "python3",
      "display_name": "Python 3"
    },
    "accelerator": "GPU"
  },
  "cells": [
    {
      "cell_type": "markdown",
      "metadata": {
        "id": "Kor7BoIk-gsn",
        "colab_type": "text"
      },
      "source": [
        "# ASHRAE – Great Energy Predictor III\n",
        "\n",
        "### Introduction:\n",
        "We are using a dataset related to ASHRAE – Great Energy Predictor III (How much energy will a building consume?). The goal is to develop models from ASHRAE’s 2016 data in order to better understand metered building energy usage in the following areas: chilled water, electric, hot water, and steam meters. The data comes from over 1,000 buildings over a one-year timeframe. The method chosen to solve the problem is Linear Regression.\n",
        "    \n",
        "### Objective\n",
        "\n",
        "The objective of this notebook is to provide a prdictive models using LSTM to predict\n",
        "How much energy will a building consume? \n",
        "\n",
        "The train dataset has our target variable called “meter reading” with datatype float, hence the task could be solved by RNN. The following methodology is used: \n",
        "\n",
        "\n",
        "\n",
        "### Outline\n",
        "\n",
        "1.Data Understanding\n",
        "\n",
        "2.Data Preparation\n",
        "\n",
        "2.1 Merge tables\n",
        "\n",
        "2.2 Droping columns and filling null value for column: 'air_temperature', 'wind_speed', 'precip_depth_1_hr', 'cloud_coverage'\n",
        "2.3 Prepare train & test data for LSTM\n",
        "\n",
        "3.Modeling    \n",
        "\n",
        "\n",
        "\n",
        "\n",
        "\n",
        "\n",
        "\n",
        "Let's dive in!"
      ]
    },
    {
      "cell_type": "markdown",
      "metadata": {
        "id": "v-im4L1-Ae4O",
        "colab_type": "text"
      },
      "source": [
        "# imports"
      ]
    },
    {
      "cell_type": "code",
      "metadata": {
        "id": "UoVtenyjp1Ok",
        "colab_type": "code",
        "colab": {}
      },
      "source": [
        "#to load data sets from drive\n",
        "from google.colab import drive\n",
        "\n",
        "import pandas as pd\n",
        "import numpy as np\n",
        "\n",
        "#viz\n",
        "import matplotlib.pyplot as plt\n",
        "import seaborn as sns\n",
        "\n",
        "\n",
        "#Scaling\n",
        "from sklearn.preprocessing import LabelEncoder\n",
        "from sklearn.preprocessing import MinMaxScaler\n",
        "\n",
        "#Keras\n",
        "from keras.models import Sequential,Model\n",
        "from keras.layers.core import Dense, Activation, Dropout\n",
        "from keras.layers.recurrent import LSTM\n",
        "from keras.layers import Dense, Dropout, GRU, CuDNNLSTM, Input\n",
        "from keras.layers.normalization import BatchNormalization\n",
        "from keras.optimizers import Adam, SGD, Nadam\n",
        "from keras.layers.advanced_activations import LeakyReLU, PReLU\n",
        "from sklearn.preprocessing import StandardScaler\n",
        "from sklearn.metrics import mean_squared_error\n",
        "\n",
        "#Save model\n",
        "from keras.models import load_model"
      ],
      "execution_count": 0,
      "outputs": []
    },
    {
      "cell_type": "code",
      "metadata": {
        "id": "CdlrMwW_4x8-",
        "colab_type": "code",
        "outputId": "8a63d5ff-dff4-42ac-b420-4d903e9bbdc6",
        "colab": {
          "base_uri": "https://localhost:8080/",
          "height": 118
        }
      },
      "source": [
        "drive.mount('/content/drive/')"
      ],
      "execution_count": 0,
      "outputs": [
        {
          "output_type": "stream",
          "text": [
            "Go to this URL in a browser: https://accounts.google.com/o/oauth2/auth?client_id=947318989803-6bn6qk8qdgf4n4g3pfee6491hc0brc4i.apps.googleusercontent.com&redirect_uri=urn%3aietf%3awg%3aoauth%3a2.0%3aoob&response_type=code&scope=email%20https%3a%2f%2fwww.googleapis.com%2fauth%2fdocs.test%20https%3a%2f%2fwww.googleapis.com%2fauth%2fdrive%20https%3a%2f%2fwww.googleapis.com%2fauth%2fdrive.photos.readonly%20https%3a%2f%2fwww.googleapis.com%2fauth%2fpeopleapi.readonly\n",
            "\n",
            "Enter your authorization code:\n",
            "··········\n",
            "Mounted at /content/drive/\n"
          ],
          "name": "stdout"
        }
      ]
    },
    {
      "cell_type": "code",
      "metadata": {
        "id": "-y7_ZiIP40VJ",
        "colab_type": "code",
        "colab": {}
      },
      "source": [
        "#Load data\n",
        "train=pd.read_csv('drive/My Drive/dl_competition/train.csv')\n",
        "building_meta=pd.read_csv('drive/My Drive/dl_competition/building_metadata.csv')\n",
        "weather=pd.read_csv('drive/My Drive/dl_competition/weather_train.csv')"
      ],
      "execution_count": 0,
      "outputs": []
    },
    {
      "cell_type": "markdown",
      "metadata": {
        "id": "nk67up3B4cOl",
        "colab_type": "text"
      },
      "source": [
        "\n",
        "### 1.Data Understanding\n",
        "\n",
        "#### 1.1 Train data"
      ]
    },
    {
      "cell_type": "code",
      "metadata": {
        "id": "K1Q4aF0q4e_D",
        "colab_type": "code",
        "outputId": "212b5c53-3483-440c-d14e-d90b8859efc6",
        "colab": {
          "base_uri": "https://localhost:8080/",
          "height": 98
        }
      },
      "source": [
        "train.dtypes\n"
      ],
      "execution_count": 0,
      "outputs": [
        {
          "output_type": "execute_result",
          "data": {
            "text/plain": [
              "building_id        int64\n",
              "meter              int64\n",
              "timestamp         object\n",
              "meter_reading    float64\n",
              "dtype: object"
            ]
          },
          "metadata": {
            "tags": []
          },
          "execution_count": 45
        }
      ]
    },
    {
      "cell_type": "code",
      "metadata": {
        "id": "_N1Fr0J64fJx",
        "colab_type": "code",
        "outputId": "6f9df9d1-f4d6-4718-e625-8110490f8fa9",
        "colab": {
          "base_uri": "https://localhost:8080/",
          "height": 98
        }
      },
      "source": [
        "train.isna().sum()"
      ],
      "execution_count": 0,
      "outputs": [
        {
          "output_type": "execute_result",
          "data": {
            "text/plain": [
              "building_id      0\n",
              "meter            0\n",
              "timestamp        0\n",
              "meter_reading    0\n",
              "dtype: int64"
            ]
          },
          "metadata": {
            "tags": []
          },
          "execution_count": 49
        }
      ]
    },
    {
      "cell_type": "code",
      "metadata": {
        "id": "_MZKS3gn4fWv",
        "colab_type": "code",
        "colab": {}
      },
      "source": [
        "#Convert timestamp  into time \n",
        "train['timestamp']=pd.to_datetime(train.timestamp)\n",
        "train[\"month\"]=train.timestamp.dt.month\n",
        "train[\"day\"]=train.timestamp.dt.day"
      ],
      "execution_count": 0,
      "outputs": []
    },
    {
      "cell_type": "code",
      "metadata": {
        "id": "nH9s5h1T4fcN",
        "colab_type": "code",
        "outputId": "fdadab5f-c882-46da-83b7-a81fd41b4ea8",
        "colab": {
          "base_uri": "https://localhost:8080/",
          "height": 277
        }
      },
      "source": [
        "train.describe()"
      ],
      "execution_count": 0,
      "outputs": [
        {
          "output_type": "execute_result",
          "data": {
            "text/html": [
              "<div>\n",
              "<style scoped>\n",
              "    .dataframe tbody tr th:only-of-type {\n",
              "        vertical-align: middle;\n",
              "    }\n",
              "\n",
              "    .dataframe tbody tr th {\n",
              "        vertical-align: top;\n",
              "    }\n",
              "\n",
              "    .dataframe thead th {\n",
              "        text-align: right;\n",
              "    }\n",
              "</style>\n",
              "<table border=\"1\" class=\"dataframe\">\n",
              "  <thead>\n",
              "    <tr style=\"text-align: right;\">\n",
              "      <th></th>\n",
              "      <th>building_id</th>\n",
              "      <th>meter</th>\n",
              "      <th>meter_reading</th>\n",
              "      <th>month</th>\n",
              "      <th>day</th>\n",
              "    </tr>\n",
              "  </thead>\n",
              "  <tbody>\n",
              "    <tr>\n",
              "      <th>count</th>\n",
              "      <td>2.021610e+07</td>\n",
              "      <td>2.021610e+07</td>\n",
              "      <td>2.021610e+07</td>\n",
              "      <td>2.021610e+07</td>\n",
              "      <td>2.021610e+07</td>\n",
              "    </tr>\n",
              "    <tr>\n",
              "      <th>mean</th>\n",
              "      <td>7.992780e+02</td>\n",
              "      <td>6.624412e-01</td>\n",
              "      <td>2.117121e+03</td>\n",
              "      <td>6.578453e+00</td>\n",
              "      <td>1.576123e+01</td>\n",
              "    </tr>\n",
              "    <tr>\n",
              "      <th>std</th>\n",
              "      <td>4.269133e+02</td>\n",
              "      <td>9.309921e-01</td>\n",
              "      <td>1.532356e+05</td>\n",
              "      <td>3.436662e+00</td>\n",
              "      <td>8.820535e+00</td>\n",
              "    </tr>\n",
              "    <tr>\n",
              "      <th>min</th>\n",
              "      <td>0.000000e+00</td>\n",
              "      <td>0.000000e+00</td>\n",
              "      <td>0.000000e+00</td>\n",
              "      <td>1.000000e+00</td>\n",
              "      <td>1.000000e+00</td>\n",
              "    </tr>\n",
              "    <tr>\n",
              "      <th>25%</th>\n",
              "      <td>3.930000e+02</td>\n",
              "      <td>0.000000e+00</td>\n",
              "      <td>1.830000e+01</td>\n",
              "      <td>4.000000e+00</td>\n",
              "      <td>8.000000e+00</td>\n",
              "    </tr>\n",
              "    <tr>\n",
              "      <th>50%</th>\n",
              "      <td>8.950000e+02</td>\n",
              "      <td>0.000000e+00</td>\n",
              "      <td>7.877500e+01</td>\n",
              "      <td>7.000000e+00</td>\n",
              "      <td>1.600000e+01</td>\n",
              "    </tr>\n",
              "    <tr>\n",
              "      <th>75%</th>\n",
              "      <td>1.179000e+03</td>\n",
              "      <td>1.000000e+00</td>\n",
              "      <td>2.679840e+02</td>\n",
              "      <td>1.000000e+01</td>\n",
              "      <td>2.300000e+01</td>\n",
              "    </tr>\n",
              "    <tr>\n",
              "      <th>max</th>\n",
              "      <td>1.448000e+03</td>\n",
              "      <td>3.000000e+00</td>\n",
              "      <td>2.190470e+07</td>\n",
              "      <td>1.200000e+01</td>\n",
              "      <td>3.100000e+01</td>\n",
              "    </tr>\n",
              "  </tbody>\n",
              "</table>\n",
              "</div>"
            ],
            "text/plain": [
              "        building_id         meter  meter_reading         month           day\n",
              "count  2.021610e+07  2.021610e+07   2.021610e+07  2.021610e+07  2.021610e+07\n",
              "mean   7.992780e+02  6.624412e-01   2.117121e+03  6.578453e+00  1.576123e+01\n",
              "std    4.269133e+02  9.309921e-01   1.532356e+05  3.436662e+00  8.820535e+00\n",
              "min    0.000000e+00  0.000000e+00   0.000000e+00  1.000000e+00  1.000000e+00\n",
              "25%    3.930000e+02  0.000000e+00   1.830000e+01  4.000000e+00  8.000000e+00\n",
              "50%    8.950000e+02  0.000000e+00   7.877500e+01  7.000000e+00  1.600000e+01\n",
              "75%    1.179000e+03  1.000000e+00   2.679840e+02  1.000000e+01  2.300000e+01\n",
              "max    1.448000e+03  3.000000e+00   2.190470e+07  1.200000e+01  3.100000e+01"
            ]
          },
          "metadata": {
            "tags": []
          },
          "execution_count": 51
        }
      ]
    },
    {
      "cell_type": "code",
      "metadata": {
        "id": "i4VYmDLs4fhq",
        "colab_type": "code",
        "outputId": "b494f345-4f8b-4caf-d51b-5fa1c5065ca7",
        "colab": {
          "base_uri": "https://localhost:8080/",
          "height": 395
        }
      },
      "source": [
        "plt.boxplot(train[train.meter==0].meter_reading)"
      ],
      "execution_count": 0,
      "outputs": [
        {
          "output_type": "execute_result",
          "data": {
            "text/plain": [
              "{'boxes': [<matplotlib.lines.Line2D at 0x7f5d5dedd240>],\n",
              " 'caps': [<matplotlib.lines.Line2D at 0x7f5d5deddb70>,\n",
              "  <matplotlib.lines.Line2D at 0x7f5d5deddeb8>],\n",
              " 'fliers': [<matplotlib.lines.Line2D at 0x7f5d5def1588>],\n",
              " 'means': [],\n",
              " 'medians': [<matplotlib.lines.Line2D at 0x7f5d5def1240>],\n",
              " 'whiskers': [<matplotlib.lines.Line2D at 0x7f5d5dedd4e0>,\n",
              "  <matplotlib.lines.Line2D at 0x7f5d5dedd828>]}"
            ]
          },
          "metadata": {
            "tags": []
          },
          "execution_count": 73
        },
        {
          "output_type": "display_data",
          "data": {
            "image/png": "[encoded data removed]",
            "text/plain": [
              "<Figure size 432x288 with 1 Axes>"
            ]
          },
          "metadata": {
            "tags": []
          }
        }
      ]
    },
    {
      "cell_type": "code",
      "metadata": {
        "id": "FQ2i1-7z4fpf",
        "colab_type": "code",
        "outputId": "d762cc22-8f3e-4e8a-b129-de3d2314c2dd",
        "colab": {
          "base_uri": "https://localhost:8080/",
          "height": 277
        }
      },
      "source": [
        "train[train.meter==0].describe()"
      ],
      "execution_count": 0,
      "outputs": [
        {
          "output_type": "execute_result",
          "data": {
            "text/html": [
              "<div>\n",
              "<style scoped>\n",
              "    .dataframe tbody tr th:only-of-type {\n",
              "        vertical-align: middle;\n",
              "    }\n",
              "\n",
              "    .dataframe tbody tr th {\n",
              "        vertical-align: top;\n",
              "    }\n",
              "\n",
              "    .dataframe thead th {\n",
              "        text-align: right;\n",
              "    }\n",
              "</style>\n",
              "<table border=\"1\" class=\"dataframe\">\n",
              "  <thead>\n",
              "    <tr style=\"text-align: right;\">\n",
              "      <th></th>\n",
              "      <th>building_id</th>\n",
              "      <th>meter</th>\n",
              "      <th>meter_reading</th>\n",
              "      <th>month</th>\n",
              "      <th>day</th>\n",
              "    </tr>\n",
              "  </thead>\n",
              "  <tbody>\n",
              "    <tr>\n",
              "      <th>count</th>\n",
              "      <td>1.206091e+07</td>\n",
              "      <td>12060910.0</td>\n",
              "      <td>1.206091e+07</td>\n",
              "      <td>1.206091e+07</td>\n",
              "      <td>1.206091e+07</td>\n",
              "    </tr>\n",
              "    <tr>\n",
              "      <th>mean</th>\n",
              "      <td>7.066480e+02</td>\n",
              "      <td>0.0</td>\n",
              "      <td>1.708256e+02</td>\n",
              "      <td>6.552058e+00</td>\n",
              "      <td>1.576247e+01</td>\n",
              "    </tr>\n",
              "    <tr>\n",
              "      <th>std</th>\n",
              "      <td>4.152330e+02</td>\n",
              "      <td>0.0</td>\n",
              "      <td>3.808343e+02</td>\n",
              "      <td>3.443575e+00</td>\n",
              "      <td>8.812518e+00</td>\n",
              "    </tr>\n",
              "    <tr>\n",
              "      <th>min</th>\n",
              "      <td>0.000000e+00</td>\n",
              "      <td>0.0</td>\n",
              "      <td>0.000000e+00</td>\n",
              "      <td>1.000000e+00</td>\n",
              "      <td>1.000000e+00</td>\n",
              "    </tr>\n",
              "    <tr>\n",
              "      <th>25%</th>\n",
              "      <td>3.450000e+02</td>\n",
              "      <td>0.0</td>\n",
              "      <td>1.950000e+01</td>\n",
              "      <td>4.000000e+00</td>\n",
              "      <td>8.000000e+00</td>\n",
              "    </tr>\n",
              "    <tr>\n",
              "      <th>50%</th>\n",
              "      <td>6.980000e+02</td>\n",
              "      <td>0.0</td>\n",
              "      <td>6.283190e+01</td>\n",
              "      <td>7.000000e+00</td>\n",
              "      <td>1.600000e+01</td>\n",
              "    </tr>\n",
              "    <tr>\n",
              "      <th>75%</th>\n",
              "      <td>1.063000e+03</td>\n",
              "      <td>0.0</td>\n",
              "      <td>1.700750e+02</td>\n",
              "      <td>1.000000e+01</td>\n",
              "      <td>2.300000e+01</td>\n",
              "    </tr>\n",
              "    <tr>\n",
              "      <th>max</th>\n",
              "      <td>1.448000e+03</td>\n",
              "      <td>0.0</td>\n",
              "      <td>7.976900e+04</td>\n",
              "      <td>1.200000e+01</td>\n",
              "      <td>3.100000e+01</td>\n",
              "    </tr>\n",
              "  </tbody>\n",
              "</table>\n",
              "</div>"
            ],
            "text/plain": [
              "        building_id       meter  meter_reading         month           day\n",
              "count  1.206091e+07  12060910.0   1.206091e+07  1.206091e+07  1.206091e+07\n",
              "mean   7.066480e+02         0.0   1.708256e+02  6.552058e+00  1.576247e+01\n",
              "std    4.152330e+02         0.0   3.808343e+02  3.443575e+00  8.812518e+00\n",
              "min    0.000000e+00         0.0   0.000000e+00  1.000000e+00  1.000000e+00\n",
              "25%    3.450000e+02         0.0   1.950000e+01  4.000000e+00  8.000000e+00\n",
              "50%    6.980000e+02         0.0   6.283190e+01  7.000000e+00  1.600000e+01\n",
              "75%    1.063000e+03         0.0   1.700750e+02  1.000000e+01  2.300000e+01\n",
              "max    1.448000e+03         0.0   7.976900e+04  1.200000e+01  3.100000e+01"
            ]
          },
          "metadata": {
            "tags": []
          },
          "execution_count": 74
        }
      ]
    },
    {
      "cell_type": "code",
      "metadata": {
        "id": "a4sRzXRI4fxm",
        "colab_type": "code",
        "outputId": "c173aa1e-4094-42f7-94ec-3a53282225ff",
        "colab": {
          "base_uri": "https://localhost:8080/",
          "height": 108
        }
      },
      "source": [
        "train[train.meter==0][train.meter_reading>70000]"
      ],
      "execution_count": 0,
      "outputs": [
        {
          "output_type": "stream",
          "text": [
            "/usr/local/lib/python3.6/dist-packages/ipykernel_launcher.py:1: UserWarning: Boolean Series key will be reindexed to match DataFrame index.\n",
            "  \"\"\"Entry point for launching an IPython kernel.\n"
          ],
          "name": "stderr"
        },
        {
          "output_type": "execute_result",
          "data": {
            "text/html": [
              "<div>\n",
              "<style scoped>\n",
              "    .dataframe tbody tr th:only-of-type {\n",
              "        vertical-align: middle;\n",
              "    }\n",
              "\n",
              "    .dataframe tbody tr th {\n",
              "        vertical-align: top;\n",
              "    }\n",
              "\n",
              "    .dataframe thead th {\n",
              "        text-align: right;\n",
              "    }\n",
              "</style>\n",
              "<table border=\"1\" class=\"dataframe\">\n",
              "  <thead>\n",
              "    <tr style=\"text-align: right;\">\n",
              "      <th></th>\n",
              "      <th>building_id</th>\n",
              "      <th>meter</th>\n",
              "      <th>timestamp</th>\n",
              "      <th>meter_reading</th>\n",
              "      <th>month</th>\n",
              "      <th>day</th>\n",
              "    </tr>\n",
              "  </thead>\n",
              "  <tbody>\n",
              "    <tr>\n",
              "      <th>15975226</th>\n",
              "      <td>993</td>\n",
              "      <td>0</td>\n",
              "      <td>2016-10-17 07:00:00</td>\n",
              "      <td>79769.0</td>\n",
              "      <td>10</td>\n",
              "      <td>17</td>\n",
              "    </tr>\n",
              "  </tbody>\n",
              "</table>\n",
              "</div>"
            ],
            "text/plain": [
              "          building_id  meter           timestamp  meter_reading  month  day\n",
              "15975226          993      0 2016-10-17 07:00:00        79769.0     10   17"
            ]
          },
          "metadata": {
            "tags": []
          },
          "execution_count": 75
        }
      ]
    },
    {
      "cell_type": "code",
      "metadata": {
        "id": "3KF4bloi4f13",
        "colab_type": "code",
        "outputId": "11e8d08e-348b-42a0-b493-6b4a7638b0cf",
        "colab": {
          "base_uri": "https://localhost:8080/",
          "height": 770
        }
      },
      "source": [
        "train[train.meter==0][train.building_id==993][train.month == 10][train.day == 17]"
      ],
      "execution_count": 0,
      "outputs": [
        {
          "output_type": "stream",
          "text": [
            "/usr/local/lib/python3.6/dist-packages/ipykernel_launcher.py:1: UserWarning: Boolean Series key will be reindexed to match DataFrame index.\n",
            "  \"\"\"Entry point for launching an IPython kernel.\n"
          ],
          "name": "stderr"
        },
        {
          "output_type": "execute_result",
          "data": {
            "text/html": [
              "<div>\n",
              "<style scoped>\n",
              "    .dataframe tbody tr th:only-of-type {\n",
              "        vertical-align: middle;\n",
              "    }\n",
              "\n",
              "    .dataframe tbody tr th {\n",
              "        vertical-align: top;\n",
              "    }\n",
              "\n",
              "    .dataframe thead th {\n",
              "        text-align: right;\n",
              "    }\n",
              "</style>\n",
              "<table border=\"1\" class=\"dataframe\">\n",
              "  <thead>\n",
              "    <tr style=\"text-align: right;\">\n",
              "      <th></th>\n",
              "      <th>building_id</th>\n",
              "      <th>meter</th>\n",
              "      <th>timestamp</th>\n",
              "      <th>meter_reading</th>\n",
              "      <th>month</th>\n",
              "      <th>day</th>\n",
              "    </tr>\n",
              "  </thead>\n",
              "  <tbody>\n",
              "    <tr>\n",
              "      <th>15959271</th>\n",
              "      <td>993</td>\n",
              "      <td>0</td>\n",
              "      <td>2016-10-17 00:00:00</td>\n",
              "      <td>0.0</td>\n",
              "      <td>10</td>\n",
              "      <td>17</td>\n",
              "    </tr>\n",
              "    <tr>\n",
              "      <th>15961428</th>\n",
              "      <td>993</td>\n",
              "      <td>0</td>\n",
              "      <td>2016-10-17 01:00:00</td>\n",
              "      <td>31921.0</td>\n",
              "      <td>10</td>\n",
              "      <td>17</td>\n",
              "    </tr>\n",
              "    <tr>\n",
              "      <th>15963761</th>\n",
              "      <td>993</td>\n",
              "      <td>0</td>\n",
              "      <td>2016-10-17 02:00:00</td>\n",
              "      <td>0.0</td>\n",
              "      <td>10</td>\n",
              "      <td>17</td>\n",
              "    </tr>\n",
              "    <tr>\n",
              "      <th>15966098</th>\n",
              "      <td>993</td>\n",
              "      <td>0</td>\n",
              "      <td>2016-10-17 03:00:00</td>\n",
              "      <td>0.0</td>\n",
              "      <td>10</td>\n",
              "      <td>17</td>\n",
              "    </tr>\n",
              "    <tr>\n",
              "      <th>15968436</th>\n",
              "      <td>993</td>\n",
              "      <td>0</td>\n",
              "      <td>2016-10-17 04:00:00</td>\n",
              "      <td>0.0</td>\n",
              "      <td>10</td>\n",
              "      <td>17</td>\n",
              "    </tr>\n",
              "    <tr>\n",
              "      <th>15970772</th>\n",
              "      <td>993</td>\n",
              "      <td>0</td>\n",
              "      <td>2016-10-17 05:00:00</td>\n",
              "      <td>0.0</td>\n",
              "      <td>10</td>\n",
              "      <td>17</td>\n",
              "    </tr>\n",
              "    <tr>\n",
              "      <th>15973109</th>\n",
              "      <td>993</td>\n",
              "      <td>0</td>\n",
              "      <td>2016-10-17 06:00:00</td>\n",
              "      <td>0.0</td>\n",
              "      <td>10</td>\n",
              "      <td>17</td>\n",
              "    </tr>\n",
              "    <tr>\n",
              "      <th>15975226</th>\n",
              "      <td>993</td>\n",
              "      <td>0</td>\n",
              "      <td>2016-10-17 07:00:00</td>\n",
              "      <td>79769.0</td>\n",
              "      <td>10</td>\n",
              "      <td>17</td>\n",
              "    </tr>\n",
              "    <tr>\n",
              "      <th>15977554</th>\n",
              "      <td>993</td>\n",
              "      <td>0</td>\n",
              "      <td>2016-10-17 08:00:00</td>\n",
              "      <td>1432.0</td>\n",
              "      <td>10</td>\n",
              "      <td>17</td>\n",
              "    </tr>\n",
              "    <tr>\n",
              "      <th>15979914</th>\n",
              "      <td>993</td>\n",
              "      <td>0</td>\n",
              "      <td>2016-10-17 09:00:00</td>\n",
              "      <td>1493.0</td>\n",
              "      <td>10</td>\n",
              "      <td>17</td>\n",
              "    </tr>\n",
              "    <tr>\n",
              "      <th>15982274</th>\n",
              "      <td>993</td>\n",
              "      <td>0</td>\n",
              "      <td>2016-10-17 10:00:00</td>\n",
              "      <td>1549.0</td>\n",
              "      <td>10</td>\n",
              "      <td>17</td>\n",
              "    </tr>\n",
              "    <tr>\n",
              "      <th>15984633</th>\n",
              "      <td>993</td>\n",
              "      <td>0</td>\n",
              "      <td>2016-10-17 11:00:00</td>\n",
              "      <td>1573.0</td>\n",
              "      <td>10</td>\n",
              "      <td>17</td>\n",
              "    </tr>\n",
              "    <tr>\n",
              "      <th>15986994</th>\n",
              "      <td>993</td>\n",
              "      <td>0</td>\n",
              "      <td>2016-10-17 12:00:00</td>\n",
              "      <td>1571.0</td>\n",
              "      <td>10</td>\n",
              "      <td>17</td>\n",
              "    </tr>\n",
              "    <tr>\n",
              "      <th>15989356</th>\n",
              "      <td>993</td>\n",
              "      <td>0</td>\n",
              "      <td>2016-10-17 13:00:00</td>\n",
              "      <td>1588.0</td>\n",
              "      <td>10</td>\n",
              "      <td>17</td>\n",
              "    </tr>\n",
              "    <tr>\n",
              "      <th>15991718</th>\n",
              "      <td>993</td>\n",
              "      <td>0</td>\n",
              "      <td>2016-10-17 14:00:00</td>\n",
              "      <td>1612.0</td>\n",
              "      <td>10</td>\n",
              "      <td>17</td>\n",
              "    </tr>\n",
              "    <tr>\n",
              "      <th>15994078</th>\n",
              "      <td>993</td>\n",
              "      <td>0</td>\n",
              "      <td>2016-10-17 15:00:00</td>\n",
              "      <td>1619.0</td>\n",
              "      <td>10</td>\n",
              "      <td>17</td>\n",
              "    </tr>\n",
              "    <tr>\n",
              "      <th>15996436</th>\n",
              "      <td>993</td>\n",
              "      <td>0</td>\n",
              "      <td>2016-10-17 16:00:00</td>\n",
              "      <td>1611.0</td>\n",
              "      <td>10</td>\n",
              "      <td>17</td>\n",
              "    </tr>\n",
              "    <tr>\n",
              "      <th>15998797</th>\n",
              "      <td>993</td>\n",
              "      <td>0</td>\n",
              "      <td>2016-10-17 17:00:00</td>\n",
              "      <td>1594.0</td>\n",
              "      <td>10</td>\n",
              "      <td>17</td>\n",
              "    </tr>\n",
              "    <tr>\n",
              "      <th>16001155</th>\n",
              "      <td>993</td>\n",
              "      <td>0</td>\n",
              "      <td>2016-10-17 18:00:00</td>\n",
              "      <td>1591.0</td>\n",
              "      <td>10</td>\n",
              "      <td>17</td>\n",
              "    </tr>\n",
              "    <tr>\n",
              "      <th>16003512</th>\n",
              "      <td>993</td>\n",
              "      <td>0</td>\n",
              "      <td>2016-10-17 19:00:00</td>\n",
              "      <td>1544.0</td>\n",
              "      <td>10</td>\n",
              "      <td>17</td>\n",
              "    </tr>\n",
              "    <tr>\n",
              "      <th>16005871</th>\n",
              "      <td>993</td>\n",
              "      <td>0</td>\n",
              "      <td>2016-10-17 20:00:00</td>\n",
              "      <td>1511.0</td>\n",
              "      <td>10</td>\n",
              "      <td>17</td>\n",
              "    </tr>\n",
              "    <tr>\n",
              "      <th>16008230</th>\n",
              "      <td>993</td>\n",
              "      <td>0</td>\n",
              "      <td>2016-10-17 21:00:00</td>\n",
              "      <td>1493.0</td>\n",
              "      <td>10</td>\n",
              "      <td>17</td>\n",
              "    </tr>\n",
              "    <tr>\n",
              "      <th>16010588</th>\n",
              "      <td>993</td>\n",
              "      <td>0</td>\n",
              "      <td>2016-10-17 22:00:00</td>\n",
              "      <td>1459.0</td>\n",
              "      <td>10</td>\n",
              "      <td>17</td>\n",
              "    </tr>\n",
              "    <tr>\n",
              "      <th>16012947</th>\n",
              "      <td>993</td>\n",
              "      <td>0</td>\n",
              "      <td>2016-10-17 23:00:00</td>\n",
              "      <td>1432.0</td>\n",
              "      <td>10</td>\n",
              "      <td>17</td>\n",
              "    </tr>\n",
              "  </tbody>\n",
              "</table>\n",
              "</div>"
            ],
            "text/plain": [
              "          building_id  meter           timestamp  meter_reading  month  day\n",
              "15959271          993      0 2016-10-17 00:00:00            0.0     10   17\n",
              "15961428          993      0 2016-10-17 01:00:00        31921.0     10   17\n",
              "15963761          993      0 2016-10-17 02:00:00            0.0     10   17\n",
              "15966098          993      0 2016-10-17 03:00:00            0.0     10   17\n",
              "15968436          993      0 2016-10-17 04:00:00            0.0     10   17\n",
              "15970772          993      0 2016-10-17 05:00:00            0.0     10   17\n",
              "15973109          993      0 2016-10-17 06:00:00            0.0     10   17\n",
              "15975226          993      0 2016-10-17 07:00:00        79769.0     10   17\n",
              "15977554          993      0 2016-10-17 08:00:00         1432.0     10   17\n",
              "15979914          993      0 2016-10-17 09:00:00         1493.0     10   17\n",
              "15982274          993      0 2016-10-17 10:00:00         1549.0     10   17\n",
              "15984633          993      0 2016-10-17 11:00:00         1573.0     10   17\n",
              "15986994          993      0 2016-10-17 12:00:00         1571.0     10   17\n",
              "15989356          993      0 2016-10-17 13:00:00         1588.0     10   17\n",
              "15991718          993      0 2016-10-17 14:00:00         1612.0     10   17\n",
              "15994078          993      0 2016-10-17 15:00:00         1619.0     10   17\n",
              "15996436          993      0 2016-10-17 16:00:00         1611.0     10   17\n",
              "15998797          993      0 2016-10-17 17:00:00         1594.0     10   17\n",
              "16001155          993      0 2016-10-17 18:00:00         1591.0     10   17\n",
              "16003512          993      0 2016-10-17 19:00:00         1544.0     10   17\n",
              "16005871          993      0 2016-10-17 20:00:00         1511.0     10   17\n",
              "16008230          993      0 2016-10-17 21:00:00         1493.0     10   17\n",
              "16010588          993      0 2016-10-17 22:00:00         1459.0     10   17\n",
              "16012947          993      0 2016-10-17 23:00:00         1432.0     10   17"
            ]
          },
          "metadata": {
            "tags": []
          },
          "execution_count": 76
        }
      ]
    },
    {
      "cell_type": "code",
      "metadata": {
        "id": "rEcVRKGy4fvI",
        "colab_type": "code",
        "outputId": "a4fb94e6-20f0-4e4b-e12d-2af7c2f7e1fc",
        "colab": {
          "base_uri": "https://localhost:8080/",
          "height": 76
        }
      },
      "source": [
        "building_meta[building_meta.building_id==993]"
      ],
      "execution_count": 0,
      "outputs": [
        {
          "output_type": "execute_result",
          "data": {
            "text/html": [
              "<div>\n",
              "<style scoped>\n",
              "    .dataframe tbody tr th:only-of-type {\n",
              "        vertical-align: middle;\n",
              "    }\n",
              "\n",
              "    .dataframe tbody tr th {\n",
              "        vertical-align: top;\n",
              "    }\n",
              "\n",
              "    .dataframe thead th {\n",
              "        text-align: right;\n",
              "    }\n",
              "</style>\n",
              "<table border=\"1\" class=\"dataframe\">\n",
              "  <thead>\n",
              "    <tr style=\"text-align: right;\">\n",
              "      <th></th>\n",
              "      <th>site_id</th>\n",
              "      <th>building_id</th>\n",
              "      <th>primary_use</th>\n",
              "      <th>square_feet</th>\n",
              "    </tr>\n",
              "  </thead>\n",
              "  <tbody>\n",
              "    <tr>\n",
              "      <th>993</th>\n",
              "      <td>9</td>\n",
              "      <td>993</td>\n",
              "      <td>Education</td>\n",
              "      <td>428647</td>\n",
              "    </tr>\n",
              "  </tbody>\n",
              "</table>\n",
              "</div>"
            ],
            "text/plain": [
              "     site_id  building_id primary_use  square_feet\n",
              "993        9          993   Education       428647"
            ]
          },
          "metadata": {
            "tags": []
          },
          "execution_count": 77
        }
      ]
    },
    {
      "cell_type": "markdown",
      "metadata": {
        "id": "kisAe3025KrV",
        "colab_type": "text"
      },
      "source": [
        "31921 & 79769. seems to be outliers since building993 has as primary_use education at 7pm and 1pm meter reading would be 0"
      ]
    },
    {
      "cell_type": "code",
      "metadata": {
        "id": "lDpAq28M5JpB",
        "colab_type": "code",
        "outputId": "09f2f15c-1445-4f6f-d162-81cb1bdaad2f",
        "colab": {
          "base_uri": "https://localhost:8080/",
          "height": 395
        }
      },
      "source": [
        "plt.boxplot(train[train.meter==1].meter_reading)"
      ],
      "execution_count": 0,
      "outputs": [
        {
          "output_type": "execute_result",
          "data": {
            "text/plain": [
              "{'boxes': [<matplotlib.lines.Line2D at 0x7f5d5dc6dc50>],\n",
              " 'caps': [<matplotlib.lines.Line2D at 0x7f5d5dc754e0>,\n",
              "  <matplotlib.lines.Line2D at 0x7f5d5dc75828>],\n",
              " 'fliers': [<matplotlib.lines.Line2D at 0x7f5d5dc75eb8>],\n",
              " 'means': [],\n",
              " 'medians': [<matplotlib.lines.Line2D at 0x7f5d5dc75b70>],\n",
              " 'whiskers': [<matplotlib.lines.Line2D at 0x7f5d5dc6dda0>,\n",
              "  <matplotlib.lines.Line2D at 0x7f5d5dc75198>]}"
            ]
          },
          "metadata": {
            "tags": []
          },
          "execution_count": 78
        },
        {
          "output_type": "display_data",
          "data": {
            "image/png": "[encoded data removed]",
            "text/plain": [
              "<Figure size 432x288 with 1 Axes>"
            ]
          },
          "metadata": {
            "tags": []
          }
        }
      ]
    },
    {
      "cell_type": "code",
      "metadata": {
        "id": "OZK5DzWG4ftO",
        "colab_type": "code",
        "outputId": "1089c37c-6ac8-4747-e565-f38483329a24",
        "colab": {
          "base_uri": "https://localhost:8080/",
          "height": 277
        }
      },
      "source": [
        "train[train.meter==1].describe()"
      ],
      "execution_count": 0,
      "outputs": [
        {
          "output_type": "execute_result",
          "data": {
            "text/html": [
              "<div>\n",
              "<style scoped>\n",
              "    .dataframe tbody tr th:only-of-type {\n",
              "        vertical-align: middle;\n",
              "    }\n",
              "\n",
              "    .dataframe tbody tr th {\n",
              "        vertical-align: top;\n",
              "    }\n",
              "\n",
              "    .dataframe thead th {\n",
              "        text-align: right;\n",
              "    }\n",
              "</style>\n",
              "<table border=\"1\" class=\"dataframe\">\n",
              "  <thead>\n",
              "    <tr style=\"text-align: right;\">\n",
              "      <th></th>\n",
              "      <th>building_id</th>\n",
              "      <th>meter</th>\n",
              "      <th>meter_reading</th>\n",
              "      <th>month</th>\n",
              "      <th>day</th>\n",
              "    </tr>\n",
              "  </thead>\n",
              "  <tbody>\n",
              "    <tr>\n",
              "      <th>count</th>\n",
              "      <td>4.182440e+06</td>\n",
              "      <td>4182440.0</td>\n",
              "      <td>4.182440e+06</td>\n",
              "      <td>4.182440e+06</td>\n",
              "      <td>4.182440e+06</td>\n",
              "    </tr>\n",
              "    <tr>\n",
              "      <th>mean</th>\n",
              "      <td>8.871572e+02</td>\n",
              "      <td>1.0</td>\n",
              "      <td>6.333639e+02</td>\n",
              "      <td>6.633137e+00</td>\n",
              "      <td>1.575326e+01</td>\n",
              "    </tr>\n",
              "    <tr>\n",
              "      <th>std</th>\n",
              "      <td>4.305578e+02</td>\n",
              "      <td>0.0</td>\n",
              "      <td>7.988213e+03</td>\n",
              "      <td>3.417093e+00</td>\n",
              "      <td>8.844727e+00</td>\n",
              "    </tr>\n",
              "    <tr>\n",
              "      <th>min</th>\n",
              "      <td>7.000000e+00</td>\n",
              "      <td>1.0</td>\n",
              "      <td>0.000000e+00</td>\n",
              "      <td>1.000000e+00</td>\n",
              "      <td>1.000000e+00</td>\n",
              "    </tr>\n",
              "    <tr>\n",
              "      <th>25%</th>\n",
              "      <td>7.470000e+02</td>\n",
              "      <td>1.0</td>\n",
              "      <td>1.132880e+01</td>\n",
              "      <td>4.000000e+00</td>\n",
              "      <td>8.000000e+00</td>\n",
              "    </tr>\n",
              "    <tr>\n",
              "      <th>50%</th>\n",
              "      <td>9.900000e+02</td>\n",
              "      <td>1.0</td>\n",
              "      <td>1.204870e+02</td>\n",
              "      <td>7.000000e+00</td>\n",
              "      <td>1.600000e+01</td>\n",
              "    </tr>\n",
              "    <tr>\n",
              "      <th>75%</th>\n",
              "      <td>1.242000e+03</td>\n",
              "      <td>1.0</td>\n",
              "      <td>4.643140e+02</td>\n",
              "      <td>1.000000e+01</td>\n",
              "      <td>2.300000e+01</td>\n",
              "    </tr>\n",
              "    <tr>\n",
              "      <th>max</th>\n",
              "      <td>1.413000e+03</td>\n",
              "      <td>1.0</td>\n",
              "      <td>8.803740e+05</td>\n",
              "      <td>1.200000e+01</td>\n",
              "      <td>3.100000e+01</td>\n",
              "    </tr>\n",
              "  </tbody>\n",
              "</table>\n",
              "</div>"
            ],
            "text/plain": [
              "        building_id      meter  meter_reading         month           day\n",
              "count  4.182440e+06  4182440.0   4.182440e+06  4.182440e+06  4.182440e+06\n",
              "mean   8.871572e+02        1.0   6.333639e+02  6.633137e+00  1.575326e+01\n",
              "std    4.305578e+02        0.0   7.988213e+03  3.417093e+00  8.844727e+00\n",
              "min    7.000000e+00        1.0   0.000000e+00  1.000000e+00  1.000000e+00\n",
              "25%    7.470000e+02        1.0   1.132880e+01  4.000000e+00  8.000000e+00\n",
              "50%    9.900000e+02        1.0   1.204870e+02  7.000000e+00  1.600000e+01\n",
              "75%    1.242000e+03        1.0   4.643140e+02  1.000000e+01  2.300000e+01\n",
              "max    1.413000e+03        1.0   8.803740e+05  1.200000e+01  3.100000e+01"
            ]
          },
          "metadata": {
            "tags": []
          },
          "execution_count": 79
        }
      ]
    },
    {
      "cell_type": "code",
      "metadata": {
        "id": "VkeXSxW74fnE",
        "colab_type": "code",
        "outputId": "1efe7ba5-9672-4269-997b-dfc60c14848f",
        "colab": {
          "base_uri": "https://localhost:8080/",
          "height": 108
        }
      },
      "source": [
        "train[train.meter==1][train.meter_reading>880000]"
      ],
      "execution_count": 0,
      "outputs": [
        {
          "output_type": "stream",
          "text": [
            "/usr/local/lib/python3.6/dist-packages/ipykernel_launcher.py:1: UserWarning: Boolean Series key will be reindexed to match DataFrame index.\n",
            "  \"\"\"Entry point for launching an IPython kernel.\n"
          ],
          "name": "stderr"
        },
        {
          "output_type": "execute_result",
          "data": {
            "text/html": [
              "<div>\n",
              "<style scoped>\n",
              "    .dataframe tbody tr th:only-of-type {\n",
              "        vertical-align: middle;\n",
              "    }\n",
              "\n",
              "    .dataframe tbody tr th {\n",
              "        vertical-align: top;\n",
              "    }\n",
              "\n",
              "    .dataframe thead th {\n",
              "        text-align: right;\n",
              "    }\n",
              "</style>\n",
              "<table border=\"1\" class=\"dataframe\">\n",
              "  <thead>\n",
              "    <tr style=\"text-align: right;\">\n",
              "      <th></th>\n",
              "      <th>building_id</th>\n",
              "      <th>meter</th>\n",
              "      <th>timestamp</th>\n",
              "      <th>meter_reading</th>\n",
              "      <th>month</th>\n",
              "      <th>day</th>\n",
              "    </tr>\n",
              "  </thead>\n",
              "  <tbody>\n",
              "    <tr>\n",
              "      <th>13851463</th>\n",
              "      <td>778</td>\n",
              "      <td>1</td>\n",
              "      <td>2016-09-09 17:00:00</td>\n",
              "      <td>880374.0</td>\n",
              "      <td>9</td>\n",
              "      <td>9</td>\n",
              "    </tr>\n",
              "  </tbody>\n",
              "</table>\n",
              "</div>"
            ],
            "text/plain": [
              "          building_id  meter           timestamp  meter_reading  month  day\n",
              "13851463          778      1 2016-09-09 17:00:00       880374.0      9    9"
            ]
          },
          "metadata": {
            "tags": []
          },
          "execution_count": 80
        }
      ]
    },
    {
      "cell_type": "code",
      "metadata": {
        "id": "494_waGp4fld",
        "colab_type": "code",
        "outputId": "9bbde162-b738-426d-bb53-c2395e376391",
        "colab": {
          "base_uri": "https://localhost:8080/",
          "height": 76
        }
      },
      "source": [
        "building_meta[building_meta.building_id==778]"
      ],
      "execution_count": 0,
      "outputs": [
        {
          "output_type": "execute_result",
          "data": {
            "text/html": [
              "<div>\n",
              "<style scoped>\n",
              "    .dataframe tbody tr th:only-of-type {\n",
              "        vertical-align: middle;\n",
              "    }\n",
              "\n",
              "    .dataframe tbody tr th {\n",
              "        vertical-align: top;\n",
              "    }\n",
              "\n",
              "    .dataframe thead th {\n",
              "        text-align: right;\n",
              "    }\n",
              "</style>\n",
              "<table border=\"1\" class=\"dataframe\">\n",
              "  <thead>\n",
              "    <tr style=\"text-align: right;\">\n",
              "      <th></th>\n",
              "      <th>site_id</th>\n",
              "      <th>building_id</th>\n",
              "      <th>primary_use</th>\n",
              "      <th>square_feet</th>\n",
              "    </tr>\n",
              "  </thead>\n",
              "  <tbody>\n",
              "    <tr>\n",
              "      <th>778</th>\n",
              "      <td>6</td>\n",
              "      <td>778</td>\n",
              "      <td>Entertainment/public assembly</td>\n",
              "      <td>108339</td>\n",
              "    </tr>\n",
              "  </tbody>\n",
              "</table>\n",
              "</div>"
            ],
            "text/plain": [
              "     site_id  building_id                    primary_use  square_feet\n",
              "778        6          778  Entertainment/public assembly       108339"
            ]
          },
          "metadata": {
            "tags": []
          },
          "execution_count": 81
        }
      ]
    },
    {
      "cell_type": "code",
      "metadata": {
        "id": "8o-aKfCK4ffx",
        "colab_type": "code",
        "outputId": "5bfff554-6a51-464d-b292-7ddd3c18f8b7",
        "colab": {
          "base_uri": "https://localhost:8080/",
          "height": 406
        }
      },
      "source": [
        "plt.boxplot(train[train.meter==2].meter_reading)"
      ],
      "execution_count": 0,
      "outputs": [
        {
          "output_type": "execute_result",
          "data": {
            "text/plain": [
              "{'boxes': [<matplotlib.lines.Line2D at 0x7f5d5dc3a6a0>],\n",
              " 'caps': [<matplotlib.lines.Line2D at 0x7f5d5dc3aef0>,\n",
              "  <matplotlib.lines.Line2D at 0x7f5d5dc43278>],\n",
              " 'fliers': [<matplotlib.lines.Line2D at 0x7f5d5dc43908>],\n",
              " 'means': [],\n",
              " 'medians': [<matplotlib.lines.Line2D at 0x7f5d5dc435c0>],\n",
              " 'whiskers': [<matplotlib.lines.Line2D at 0x7f5d5dc3a7f0>,\n",
              "  <matplotlib.lines.Line2D at 0x7f5d5dc3aba8>]}"
            ]
          },
          "metadata": {
            "tags": []
          },
          "execution_count": 82
        },
        {
          "output_type": "display_data",
          "data": {
            "image/png": "[encoded data removed]",
            "text/plain": [
              "<Figure size 432x288 with 1 Axes>"
            ]
          },
          "metadata": {
            "tags": []
          }
        }
      ]
    },
    {
      "cell_type": "code",
      "metadata": {
        "id": "C82D5dFS4faO",
        "colab_type": "code",
        "outputId": "bc313047-dbd1-42b2-c8cc-a68ce880556a",
        "colab": {
          "base_uri": "https://localhost:8080/",
          "height": 395
        }
      },
      "source": [
        "plt.boxplot(train[train.meter==3].meter_reading)"
      ],
      "execution_count": 0,
      "outputs": [
        {
          "output_type": "execute_result",
          "data": {
            "text/plain": [
              "{'boxes': [<matplotlib.lines.Line2D at 0x7f5d5c1b2fd0>],\n",
              " 'caps': [<matplotlib.lines.Line2D at 0x7f5d5c1bc860>,\n",
              "  <matplotlib.lines.Line2D at 0x7f5d5c1bcba8>],\n",
              " 'fliers': [<matplotlib.lines.Line2D at 0x7f5d5c1c4278>],\n",
              " 'means': [],\n",
              " 'medians': [<matplotlib.lines.Line2D at 0x7f5d5c1bcef0>],\n",
              " 'whiskers': [<matplotlib.lines.Line2D at 0x7f5d5c1bc160>,\n",
              "  <matplotlib.lines.Line2D at 0x7f5d5c1bc518>]}"
            ]
          },
          "metadata": {
            "tags": []
          },
          "execution_count": 83
        },
        {
          "output_type": "display_data",
          "data": {
            "image/png": "[encoded data removed]",
            "text/plain": [
              "<Figure size 432x288 with 1 Axes>"
            ]
          },
          "metadata": {
            "tags": []
          }
        }
      ]
    },
    {
      "cell_type": "code",
      "metadata": {
        "id": "gUBGV5jO4fUC",
        "colab_type": "code",
        "outputId": "8634e3b1-8911-4bae-cd6c-c9c74f3052c5",
        "colab": {
          "base_uri": "https://localhost:8080/",
          "height": 212
        }
      },
      "source": [
        "train[train.building_id==0]['timestamp']"
      ],
      "execution_count": 0,
      "outputs": [
        {
          "output_type": "execute_result",
          "data": {
            "text/plain": [
              "0          2016-01-01 00:00:00\n",
              "2301       2016-01-01 01:00:00\n",
              "4594       2016-01-01 02:00:00\n",
              "6893       2016-01-01 03:00:00\n",
              "9189       2016-01-01 04:00:00\n",
              "                   ...        \n",
              "20204274   2016-12-31 19:00:00\n",
              "20206637   2016-12-31 20:00:00\n",
              "20209003   2016-12-31 21:00:00\n",
              "20211368   2016-12-31 22:00:00\n",
              "20213734   2016-12-31 23:00:00\n",
              "Name: timestamp, Length: 8784, dtype: datetime64[ns]"
            ]
          },
          "metadata": {
            "tags": []
          },
          "execution_count": 84
        }
      ]
    },
    {
      "cell_type": "markdown",
      "metadata": {
        "id": "06VBr-r05flU",
        "colab_type": "text"
      },
      "source": [
        "- We have energy measurement by building and by meter each 1hour along one year(2016)\n",
        "\n",
        "#### Annual average of energy consumption by building "
      ]
    },
    {
      "cell_type": "code",
      "metadata": {
        "id": "WNouWb6X4fRX",
        "colab_type": "code",
        "colab": {}
      },
      "source": [
        "dff=train[['building_id','meter','meter_reading']].groupby(['building_id','meter']).mean()"
      ],
      "execution_count": 0,
      "outputs": []
    },
    {
      "cell_type": "code",
      "metadata": {
        "id": "FpuScNo44fPE",
        "colab_type": "code",
        "outputId": "d09acf54-1fd2-4d91-f444-ecec04ef4e20",
        "colab": {
          "base_uri": "https://localhost:8080/",
          "height": 191
        }
      },
      "source": [
        "dff.reset_index(inplace=True)\n",
        "dff.head()"
      ],
      "execution_count": 0,
      "outputs": [
        {
          "output_type": "execute_result",
          "data": {
            "text/html": [
              "<div>\n",
              "<style scoped>\n",
              "    .dataframe tbody tr th:only-of-type {\n",
              "        vertical-align: middle;\n",
              "    }\n",
              "\n",
              "    .dataframe tbody tr th {\n",
              "        vertical-align: top;\n",
              "    }\n",
              "\n",
              "    .dataframe thead th {\n",
              "        text-align: right;\n",
              "    }\n",
              "</style>\n",
              "<table border=\"1\" class=\"dataframe\">\n",
              "  <thead>\n",
              "    <tr style=\"text-align: right;\">\n",
              "      <th></th>\n",
              "      <th>building_id</th>\n",
              "      <th>meter</th>\n",
              "      <th>meter_reading</th>\n",
              "    </tr>\n",
              "  </thead>\n",
              "  <tbody>\n",
              "    <tr>\n",
              "      <th>0</th>\n",
              "      <td>0</td>\n",
              "      <td>0</td>\n",
              "      <td>146.454978</td>\n",
              "    </tr>\n",
              "    <tr>\n",
              "      <th>1</th>\n",
              "      <td>1</td>\n",
              "      <td>0</td>\n",
              "      <td>74.865393</td>\n",
              "    </tr>\n",
              "    <tr>\n",
              "      <th>2</th>\n",
              "      <td>2</td>\n",
              "      <td>0</td>\n",
              "      <td>14.551385</td>\n",
              "    </tr>\n",
              "    <tr>\n",
              "      <th>3</th>\n",
              "      <td>3</td>\n",
              "      <td>0</td>\n",
              "      <td>235.549966</td>\n",
              "    </tr>\n",
              "    <tr>\n",
              "      <th>4</th>\n",
              "      <td>4</td>\n",
              "      <td>0</td>\n",
              "      <td>976.556746</td>\n",
              "    </tr>\n",
              "  </tbody>\n",
              "</table>\n",
              "</div>"
            ],
            "text/plain": [
              "   building_id  meter  meter_reading\n",
              "0            0      0     146.454978\n",
              "1            1      0      74.865393\n",
              "2            2      0      14.551385\n",
              "3            3      0     235.549966\n",
              "4            4      0     976.556746"
            ]
          },
          "metadata": {
            "tags": []
          },
          "execution_count": 86
        }
      ]
    },
    {
      "cell_type": "code",
      "metadata": {
        "id": "LBKyXjVk4fMs",
        "colab_type": "code",
        "outputId": "2f269620-6362-494d-a023-987639b64ba2",
        "colab": {
          "base_uri": "https://localhost:8080/",
          "height": 281
        }
      },
      "source": [
        "dff.meter.hist()"
      ],
      "execution_count": 0,
      "outputs": [
        {
          "output_type": "execute_result",
          "data": {
            "text/plain": [
              "<matplotlib.axes._subplots.AxesSubplot at 0x7f5d5c1687b8>"
            ]
          },
          "metadata": {
            "tags": []
          },
          "execution_count": 87
        },
        {
          "output_type": "display_data",
          "data": {
            "image/png": "[encoded data removed]",
            "text/plain": [
              "<Figure size 432x288 with 1 Axes>"
            ]
          },
          "metadata": {
            "tags": []
          }
        }
      ]
    },
    {
      "cell_type": "markdown",
      "metadata": {
        "id": "p1S-CvLg54LV",
        "colab_type": "text"
      },
      "source": [
        "- 1413 out of 1449 buildings are using electricity\n",
        "\n",
        "#### Energy annual consumption\n"
      ]
    },
    {
      "cell_type": "code",
      "metadata": {
        "id": "1MPyAXJm52te",
        "colab_type": "code",
        "outputId": "543b667f-d2e5-4d71-c2d2-074ac5544df3",
        "colab": {
          "base_uri": "https://localhost:8080/",
          "height": 82
        }
      },
      "source": [
        "tags=['electricity', 'chilled water', 'steam      ', 'hot water']\n",
        "d=train.groupby('meter').sum()[\"meter_reading\"]\n",
        "j=0\n",
        "for i in d:\n",
        "    print(' Annual consumption of %s \\t : %f' % (tags[j],i))\n",
        "    j+=1"
      ],
      "execution_count": 0,
      "outputs": [
        {
          "output_type": "stream",
          "text": [
            " Annual consumption of electricity \t : 2060312626.892362\n",
            " Annual consumption of chilled water \t : 2649006611.237669\n",
            " Annual consumption of steam       \t : 37602862262.494247\n",
            " Annual consumption of hot water \t : 487749888.206928\n"
          ],
          "name": "stdout"
        }
      ]
    },
    {
      "cell_type": "code",
      "metadata": {
        "id": "L-5sxJ7E521f",
        "colab_type": "code",
        "outputId": "e838bfe1-eafc-4941-cc31-5b5652feb839",
        "colab": {
          "base_uri": "https://localhost:8080/",
          "height": 391
        }
      },
      "source": [
        "train[train.building_id==403]"
      ],
      "execution_count": 0,
      "outputs": [
        {
          "output_type": "execute_result",
          "data": {
            "text/html": [
              "<div>\n",
              "<style scoped>\n",
              "    .dataframe tbody tr th:only-of-type {\n",
              "        vertical-align: middle;\n",
              "    }\n",
              "\n",
              "    .dataframe tbody tr th {\n",
              "        vertical-align: top;\n",
              "    }\n",
              "\n",
              "    .dataframe thead th {\n",
              "        text-align: right;\n",
              "    }\n",
              "</style>\n",
              "<table border=\"1\" class=\"dataframe\">\n",
              "  <thead>\n",
              "    <tr style=\"text-align: right;\">\n",
              "      <th></th>\n",
              "      <th>building_id</th>\n",
              "      <th>meter</th>\n",
              "      <th>timestamp</th>\n",
              "      <th>meter_reading</th>\n",
              "      <th>month</th>\n",
              "      <th>day</th>\n",
              "    </tr>\n",
              "  </thead>\n",
              "  <tbody>\n",
              "    <tr>\n",
              "      <th>19085659</th>\n",
              "      <td>403</td>\n",
              "      <td>0</td>\n",
              "      <td>2016-12-12 01:00:00</td>\n",
              "      <td>44.35</td>\n",
              "      <td>12</td>\n",
              "      <td>12</td>\n",
              "    </tr>\n",
              "    <tr>\n",
              "      <th>19088023</th>\n",
              "      <td>403</td>\n",
              "      <td>0</td>\n",
              "      <td>2016-12-12 02:00:00</td>\n",
              "      <td>45.45</td>\n",
              "      <td>12</td>\n",
              "      <td>12</td>\n",
              "    </tr>\n",
              "    <tr>\n",
              "      <th>19090387</th>\n",
              "      <td>403</td>\n",
              "      <td>0</td>\n",
              "      <td>2016-12-12 03:00:00</td>\n",
              "      <td>44.82</td>\n",
              "      <td>12</td>\n",
              "      <td>12</td>\n",
              "    </tr>\n",
              "    <tr>\n",
              "      <th>19092751</th>\n",
              "      <td>403</td>\n",
              "      <td>0</td>\n",
              "      <td>2016-12-12 04:00:00</td>\n",
              "      <td>45.11</td>\n",
              "      <td>12</td>\n",
              "      <td>12</td>\n",
              "    </tr>\n",
              "    <tr>\n",
              "      <th>19095115</th>\n",
              "      <td>403</td>\n",
              "      <td>0</td>\n",
              "      <td>2016-12-12 05:00:00</td>\n",
              "      <td>44.73</td>\n",
              "      <td>12</td>\n",
              "      <td>12</td>\n",
              "    </tr>\n",
              "    <tr>\n",
              "      <th>...</th>\n",
              "      <td>...</td>\n",
              "      <td>...</td>\n",
              "      <td>...</td>\n",
              "      <td>...</td>\n",
              "      <td>...</td>\n",
              "      <td>...</td>\n",
              "    </tr>\n",
              "    <tr>\n",
              "      <th>20204864</th>\n",
              "      <td>403</td>\n",
              "      <td>0</td>\n",
              "      <td>2016-12-31 19:00:00</td>\n",
              "      <td>43.66</td>\n",
              "      <td>12</td>\n",
              "      <td>31</td>\n",
              "    </tr>\n",
              "    <tr>\n",
              "      <th>20207227</th>\n",
              "      <td>403</td>\n",
              "      <td>0</td>\n",
              "      <td>2016-12-31 20:00:00</td>\n",
              "      <td>43.64</td>\n",
              "      <td>12</td>\n",
              "      <td>31</td>\n",
              "    </tr>\n",
              "    <tr>\n",
              "      <th>20209593</th>\n",
              "      <td>403</td>\n",
              "      <td>0</td>\n",
              "      <td>2016-12-31 21:00:00</td>\n",
              "      <td>43.89</td>\n",
              "      <td>12</td>\n",
              "      <td>31</td>\n",
              "    </tr>\n",
              "    <tr>\n",
              "      <th>20211958</th>\n",
              "      <td>403</td>\n",
              "      <td>0</td>\n",
              "      <td>2016-12-31 22:00:00</td>\n",
              "      <td>44.37</td>\n",
              "      <td>12</td>\n",
              "      <td>31</td>\n",
              "    </tr>\n",
              "    <tr>\n",
              "      <th>20214324</th>\n",
              "      <td>403</td>\n",
              "      <td>0</td>\n",
              "      <td>2016-12-31 23:00:00</td>\n",
              "      <td>43.71</td>\n",
              "      <td>12</td>\n",
              "      <td>31</td>\n",
              "    </tr>\n",
              "  </tbody>\n",
              "</table>\n",
              "<p>479 rows × 6 columns</p>\n",
              "</div>"
            ],
            "text/plain": [
              "          building_id  meter           timestamp  meter_reading  month  day\n",
              "19085659          403      0 2016-12-12 01:00:00          44.35     12   12\n",
              "19088023          403      0 2016-12-12 02:00:00          45.45     12   12\n",
              "19090387          403      0 2016-12-12 03:00:00          44.82     12   12\n",
              "19092751          403      0 2016-12-12 04:00:00          45.11     12   12\n",
              "19095115          403      0 2016-12-12 05:00:00          44.73     12   12\n",
              "...               ...    ...                 ...            ...    ...  ...\n",
              "20204864          403      0 2016-12-31 19:00:00          43.66     12   31\n",
              "20207227          403      0 2016-12-31 20:00:00          43.64     12   31\n",
              "20209593          403      0 2016-12-31 21:00:00          43.89     12   31\n",
              "20211958          403      0 2016-12-31 22:00:00          44.37     12   31\n",
              "20214324          403      0 2016-12-31 23:00:00          43.71     12   31\n",
              "\n",
              "[479 rows x 6 columns]"
            ]
          },
          "metadata": {
            "tags": []
          },
          "execution_count": 89
        }
      ]
    },
    {
      "cell_type": "code",
      "metadata": {
        "id": "uueCHGZI525T",
        "colab_type": "code",
        "outputId": "538ed2e6-0085-4fe2-bd31-efcc69d4a248",
        "colab": {
          "base_uri": "https://localhost:8080/",
          "height": 33
        }
      },
      "source": [
        "train.building_id.nunique()"
      ],
      "execution_count": 0,
      "outputs": [
        {
          "output_type": "execute_result",
          "data": {
            "text/plain": [
              "1449"
            ]
          },
          "metadata": {
            "tags": []
          },
          "execution_count": 90
        }
      ]
    },
    {
      "cell_type": "code",
      "metadata": {
        "id": "PT3XcF2B52y2",
        "colab_type": "code",
        "outputId": "b5acc9ff-a947-4ac7-d851-47356b476f86",
        "colab": {
          "base_uri": "https://localhost:8080/",
          "height": 66
        }
      },
      "source": [
        "t=set([train[train.building_id==i]['timestamp'].shape[0] for i in range(1449)])\n",
        "max([train[train.building_id==i][train.meter==0]['timestamp'].shape[0] for i in range(1449)])"
      ],
      "execution_count": 0,
      "outputs": [
        {
          "output_type": "stream",
          "text": [
            "/usr/local/lib/python3.6/dist-packages/ipykernel_launcher.py:2: UserWarning: Boolean Series key will be reindexed to match DataFrame index.\n",
            "  \n"
          ],
          "name": "stderr"
        },
        {
          "output_type": "execute_result",
          "data": {
            "text/plain": [
              "8784"
            ]
          },
          "metadata": {
            "tags": []
          },
          "execution_count": 91
        }
      ]
    },
    {
      "cell_type": "markdown",
      "metadata": {
        "id": "Bi_1j27w6pJf",
        "colab_type": "text"
      },
      "source": [
        "- max number of measurement across a year for one type of energy 8784\n",
        "\n",
        "#### Building_id0 average consumption per month of electricity"
      ]
    },
    {
      "cell_type": "code",
      "metadata": {
        "id": "aJmVlYZ652wy",
        "colab_type": "code",
        "outputId": "bb32b2ba-cf76-4940-b9ab-e0adf5332e6b",
        "colab": {
          "base_uri": "https://localhost:8080/",
          "height": 50
        }
      },
      "source": [
        "g1 = train[train.building_id==0][train.meter==0][['month','meter_reading']].groupby('month').mean()"
      ],
      "execution_count": 0,
      "outputs": [
        {
          "output_type": "stream",
          "text": [
            "/usr/local/lib/python3.6/dist-packages/ipykernel_launcher.py:1: UserWarning: Boolean Series key will be reindexed to match DataFrame index.\n",
            "  \"\"\"Entry point for launching an IPython kernel.\n"
          ],
          "name": "stderr"
        }
      ]
    },
    {
      "cell_type": "code",
      "metadata": {
        "id": "F9yIdV-752qf",
        "colab_type": "code",
        "outputId": "20adfde4-b1be-4379-c452-720b5627707c",
        "colab": {
          "base_uri": "https://localhost:8080/",
          "height": 281
        }
      },
      "source": [
        "plt.scatter( range(1,13),g1, alpha=0.8, edgecolors='none', s=30)"
      ],
      "execution_count": 0,
      "outputs": [
        {
          "output_type": "execute_result",
          "data": {
            "text/plain": [
              "<matplotlib.collections.PathCollection at 0x7f5d5c0ba0f0>"
            ]
          },
          "metadata": {
            "tags": []
          },
          "execution_count": 93
        },
        {
          "output_type": "display_data",
          "data": {
            "image/png": "[encoded data removed]",
            "text/plain": [
              "<Figure size 432x288 with 1 Axes>"
            ]
          },
          "metadata": {
            "tags": []
          }
        }
      ]
    },
    {
      "cell_type": "markdown",
      "metadata": {
        "id": "WHv2kXa97Cud",
        "colab_type": "text"
      },
      "source": [
        "#### Visualize Building_id1448 average consumption per month for each type of energy\n"
      ]
    },
    {
      "cell_type": "code",
      "metadata": {
        "id": "Qz3bQDzh52os",
        "colab_type": "code",
        "outputId": "a3c440c4-9370-43b6-a371-1e01688c3dcb",
        "colab": {
          "base_uri": "https://localhost:8080/",
          "height": 313
        }
      },
      "source": [
        "g1 = train[train.building_id==1448][train.meter==0][['month','meter_reading']].groupby('month').mean()\n",
        "plt.scatter( range(1,13),g1, alpha=0.8, edgecolors='none', s=30)"
      ],
      "execution_count": 0,
      "outputs": [
        {
          "output_type": "stream",
          "text": [
            "/usr/local/lib/python3.6/dist-packages/ipykernel_launcher.py:1: UserWarning: Boolean Series key will be reindexed to match DataFrame index.\n",
            "  \"\"\"Entry point for launching an IPython kernel.\n"
          ],
          "name": "stderr"
        },
        {
          "output_type": "execute_result",
          "data": {
            "text/plain": [
              "<matplotlib.collections.PathCollection at 0x7f5d5c094a90>"
            ]
          },
          "metadata": {
            "tags": []
          },
          "execution_count": 94
        },
        {
          "output_type": "display_data",
          "data": {
            "image/png": "[encoded data removed]",
            "text/plain": [
              "<Figure size 432x288 with 1 Axes>"
            ]
          },
          "metadata": {
            "tags": []
          }
        }
      ]
    },
    {
      "cell_type": "markdown",
      "metadata": {
        "id": "3TEViJny7J8e",
        "colab_type": "text"
      },
      "source": [
        "#### Visualize Building_id700 average consumption per month for each type of energy"
      ]
    },
    {
      "cell_type": "code",
      "metadata": {
        "id": "Q_EZdD2B52mL",
        "colab_type": "code",
        "outputId": "129f58c0-15d0-467b-c36f-7a876a113455",
        "colab": {
          "base_uri": "https://localhost:8080/",
          "height": 313
        }
      },
      "source": [
        "g1 = train[train.building_id==700][train.meter==0][['month','meter_reading']].groupby('month').mean()\n",
        "plt.scatter( range(1,13),g1, alpha=0.8, edgecolors='none', s=30)"
      ],
      "execution_count": 0,
      "outputs": [
        {
          "output_type": "stream",
          "text": [
            "/usr/local/lib/python3.6/dist-packages/ipykernel_launcher.py:1: UserWarning: Boolean Series key will be reindexed to match DataFrame index.\n",
            "  \"\"\"Entry point for launching an IPython kernel.\n"
          ],
          "name": "stderr"
        },
        {
          "output_type": "execute_result",
          "data": {
            "text/plain": [
              "<matplotlib.collections.PathCollection at 0x7f5d58595d30>"
            ]
          },
          "metadata": {
            "tags": []
          },
          "execution_count": 95
        },
        {
          "output_type": "display_data",
          "data": {
            "image/png": "[encoded data removed]",
            "text/plain": [
              "<Figure size 432x288 with 1 Axes>"
            ]
          },
          "metadata": {
            "tags": []
          }
        }
      ]
    },
    {
      "cell_type": "markdown",
      "metadata": {
        "id": "1gdpwM_s7rFE",
        "colab_type": "text"
      },
      "source": [
        "### 1.2 Building_meta_data"
      ]
    },
    {
      "cell_type": "code",
      "metadata": {
        "id": "65WQReyQ52i6",
        "colab_type": "code",
        "outputId": "b43cc17d-ff79-41ea-c8a5-cf5b2091ffe4",
        "colab": {
          "base_uri": "https://localhost:8080/",
          "height": 98
        }
      },
      "source": [
        "building_meta.isna().sum()"
      ],
      "execution_count": 0,
      "outputs": [
        {
          "output_type": "execute_result",
          "data": {
            "text/plain": [
              "site_id        0\n",
              "building_id    0\n",
              "primary_use    0\n",
              "square_feet    0\n",
              "dtype: int64"
            ]
          },
          "metadata": {
            "tags": []
          },
          "execution_count": 96
        }
      ]
    },
    {
      "cell_type": "code",
      "metadata": {
        "id": "j9gxex5552fw",
        "colab_type": "code",
        "outputId": "2b536f7f-b955-40db-cd07-98144a1d1b95",
        "colab": {
          "base_uri": "https://localhost:8080/",
          "height": 277
        }
      },
      "source": [
        "building_meta.describe()"
      ],
      "execution_count": 0,
      "outputs": [
        {
          "output_type": "execute_result",
          "data": {
            "text/html": [
              "<div>\n",
              "<style scoped>\n",
              "    .dataframe tbody tr th:only-of-type {\n",
              "        vertical-align: middle;\n",
              "    }\n",
              "\n",
              "    .dataframe tbody tr th {\n",
              "        vertical-align: top;\n",
              "    }\n",
              "\n",
              "    .dataframe thead th {\n",
              "        text-align: right;\n",
              "    }\n",
              "</style>\n",
              "<table border=\"1\" class=\"dataframe\">\n",
              "  <thead>\n",
              "    <tr style=\"text-align: right;\">\n",
              "      <th></th>\n",
              "      <th>site_id</th>\n",
              "      <th>building_id</th>\n",
              "      <th>square_feet</th>\n",
              "    </tr>\n",
              "  </thead>\n",
              "  <tbody>\n",
              "    <tr>\n",
              "      <th>count</th>\n",
              "      <td>1449.000000</td>\n",
              "      <td>1449.000000</td>\n",
              "      <td>1449.000000</td>\n",
              "    </tr>\n",
              "    <tr>\n",
              "      <th>mean</th>\n",
              "      <td>6.952381</td>\n",
              "      <td>724.000000</td>\n",
              "      <td>92111.776398</td>\n",
              "    </tr>\n",
              "    <tr>\n",
              "      <th>std</th>\n",
              "      <td>5.003432</td>\n",
              "      <td>418.434583</td>\n",
              "      <td>110769.950997</td>\n",
              "    </tr>\n",
              "    <tr>\n",
              "      <th>min</th>\n",
              "      <td>0.000000</td>\n",
              "      <td>0.000000</td>\n",
              "      <td>283.000000</td>\n",
              "    </tr>\n",
              "    <tr>\n",
              "      <th>25%</th>\n",
              "      <td>3.000000</td>\n",
              "      <td>362.000000</td>\n",
              "      <td>23012.000000</td>\n",
              "    </tr>\n",
              "    <tr>\n",
              "      <th>50%</th>\n",
              "      <td>5.000000</td>\n",
              "      <td>724.000000</td>\n",
              "      <td>57673.000000</td>\n",
              "    </tr>\n",
              "    <tr>\n",
              "      <th>75%</th>\n",
              "      <td>13.000000</td>\n",
              "      <td>1086.000000</td>\n",
              "      <td>115676.000000</td>\n",
              "    </tr>\n",
              "    <tr>\n",
              "      <th>max</th>\n",
              "      <td>15.000000</td>\n",
              "      <td>1448.000000</td>\n",
              "      <td>875000.000000</td>\n",
              "    </tr>\n",
              "  </tbody>\n",
              "</table>\n",
              "</div>"
            ],
            "text/plain": [
              "           site_id  building_id    square_feet\n",
              "count  1449.000000  1449.000000    1449.000000\n",
              "mean      6.952381   724.000000   92111.776398\n",
              "std       5.003432   418.434583  110769.950997\n",
              "min       0.000000     0.000000     283.000000\n",
              "25%       3.000000   362.000000   23012.000000\n",
              "50%       5.000000   724.000000   57673.000000\n",
              "75%      13.000000  1086.000000  115676.000000\n",
              "max      15.000000  1448.000000  875000.000000"
            ]
          },
          "metadata": {
            "tags": []
          },
          "execution_count": 97
        }
      ]
    },
    {
      "cell_type": "code",
      "metadata": {
        "id": "nNa5G0oA72LK",
        "colab_type": "code",
        "colab": {}
      },
      "source": [
        "building_meta[building_meta.year_built==2017]"
      ],
      "execution_count": 0,
      "outputs": []
    },
    {
      "cell_type": "code",
      "metadata": {
        "id": "9bY5Y3ZU72FQ",
        "colab_type": "code",
        "outputId": "2cd4373c-1479-43fb-ecb0-1f044202143c",
        "colab": {
          "base_uri": "https://localhost:8080/",
          "height": 391
        }
      },
      "source": [
        "train[train.building_id==363]"
      ],
      "execution_count": 0,
      "outputs": [
        {
          "output_type": "execute_result",
          "data": {
            "text/html": [
              "<div>\n",
              "<style scoped>\n",
              "    .dataframe tbody tr th:only-of-type {\n",
              "        vertical-align: middle;\n",
              "    }\n",
              "\n",
              "    .dataframe tbody tr th {\n",
              "        vertical-align: top;\n",
              "    }\n",
              "\n",
              "    .dataframe thead th {\n",
              "        text-align: right;\n",
              "    }\n",
              "</style>\n",
              "<table border=\"1\" class=\"dataframe\">\n",
              "  <thead>\n",
              "    <tr style=\"text-align: right;\">\n",
              "      <th></th>\n",
              "      <th>building_id</th>\n",
              "      <th>meter</th>\n",
              "      <th>timestamp</th>\n",
              "      <th>meter_reading</th>\n",
              "      <th>month</th>\n",
              "      <th>day</th>\n",
              "    </tr>\n",
              "  </thead>\n",
              "  <tbody>\n",
              "    <tr>\n",
              "      <th>523</th>\n",
              "      <td>363</td>\n",
              "      <td>0</td>\n",
              "      <td>2016-01-01 00:00:00</td>\n",
              "      <td>32.05</td>\n",
              "      <td>1</td>\n",
              "      <td>1</td>\n",
              "    </tr>\n",
              "    <tr>\n",
              "      <th>2822</th>\n",
              "      <td>363</td>\n",
              "      <td>0</td>\n",
              "      <td>2016-01-01 01:00:00</td>\n",
              "      <td>32.57</td>\n",
              "      <td>1</td>\n",
              "      <td>1</td>\n",
              "    </tr>\n",
              "    <tr>\n",
              "      <th>5117</th>\n",
              "      <td>363</td>\n",
              "      <td>0</td>\n",
              "      <td>2016-01-01 02:00:00</td>\n",
              "      <td>32.80</td>\n",
              "      <td>1</td>\n",
              "      <td>1</td>\n",
              "    </tr>\n",
              "    <tr>\n",
              "      <th>7415</th>\n",
              "      <td>363</td>\n",
              "      <td>0</td>\n",
              "      <td>2016-01-01 03:00:00</td>\n",
              "      <td>33.92</td>\n",
              "      <td>1</td>\n",
              "      <td>1</td>\n",
              "    </tr>\n",
              "    <tr>\n",
              "      <th>9710</th>\n",
              "      <td>363</td>\n",
              "      <td>0</td>\n",
              "      <td>2016-01-01 04:00:00</td>\n",
              "      <td>35.58</td>\n",
              "      <td>1</td>\n",
              "      <td>1</td>\n",
              "    </tr>\n",
              "    <tr>\n",
              "      <th>...</th>\n",
              "      <td>...</td>\n",
              "      <td>...</td>\n",
              "      <td>...</td>\n",
              "      <td>...</td>\n",
              "      <td>...</td>\n",
              "      <td>...</td>\n",
              "    </tr>\n",
              "    <tr>\n",
              "      <th>20204824</th>\n",
              "      <td>363</td>\n",
              "      <td>0</td>\n",
              "      <td>2016-12-31 19:00:00</td>\n",
              "      <td>43.63</td>\n",
              "      <td>12</td>\n",
              "      <td>31</td>\n",
              "    </tr>\n",
              "    <tr>\n",
              "      <th>20207187</th>\n",
              "      <td>363</td>\n",
              "      <td>0</td>\n",
              "      <td>2016-12-31 20:00:00</td>\n",
              "      <td>43.27</td>\n",
              "      <td>12</td>\n",
              "      <td>31</td>\n",
              "    </tr>\n",
              "    <tr>\n",
              "      <th>20209553</th>\n",
              "      <td>363</td>\n",
              "      <td>0</td>\n",
              "      <td>2016-12-31 21:00:00</td>\n",
              "      <td>43.37</td>\n",
              "      <td>12</td>\n",
              "      <td>31</td>\n",
              "    </tr>\n",
              "    <tr>\n",
              "      <th>20211918</th>\n",
              "      <td>363</td>\n",
              "      <td>0</td>\n",
              "      <td>2016-12-31 22:00:00</td>\n",
              "      <td>36.28</td>\n",
              "      <td>12</td>\n",
              "      <td>31</td>\n",
              "    </tr>\n",
              "    <tr>\n",
              "      <th>20214284</th>\n",
              "      <td>363</td>\n",
              "      <td>0</td>\n",
              "      <td>2016-12-31 23:00:00</td>\n",
              "      <td>11.92</td>\n",
              "      <td>12</td>\n",
              "      <td>31</td>\n",
              "    </tr>\n",
              "  </tbody>\n",
              "</table>\n",
              "<p>8782 rows × 6 columns</p>\n",
              "</div>"
            ],
            "text/plain": [
              "          building_id  meter           timestamp  meter_reading  month  day\n",
              "523               363      0 2016-01-01 00:00:00          32.05      1    1\n",
              "2822              363      0 2016-01-01 01:00:00          32.57      1    1\n",
              "5117              363      0 2016-01-01 02:00:00          32.80      1    1\n",
              "7415              363      0 2016-01-01 03:00:00          33.92      1    1\n",
              "9710              363      0 2016-01-01 04:00:00          35.58      1    1\n",
              "...               ...    ...                 ...            ...    ...  ...\n",
              "20204824          363      0 2016-12-31 19:00:00          43.63     12   31\n",
              "20207187          363      0 2016-12-31 20:00:00          43.27     12   31\n",
              "20209553          363      0 2016-12-31 21:00:00          43.37     12   31\n",
              "20211918          363      0 2016-12-31 22:00:00          36.28     12   31\n",
              "20214284          363      0 2016-12-31 23:00:00          11.92     12   31\n",
              "\n",
              "[8782 rows x 6 columns]"
            ]
          },
          "metadata": {
            "tags": []
          },
          "execution_count": 99
        }
      ]
    },
    {
      "cell_type": "markdown",
      "metadata": {
        "id": "DwhFs4Pr8AhW",
        "colab_type": "text"
      },
      "source": [
        "- building_id 363 is using electricity for 1 year before it has been built! \n",
        "\n",
        "Unconsistent year of built"
      ]
    },
    {
      "cell_type": "code",
      "metadata": {
        "id": "w-8cXDTH72Cv",
        "colab_type": "code",
        "outputId": "2faacff4-85f4-44ce-af50-2464bea9767b",
        "colab": {
          "base_uri": "https://localhost:8080/",
          "height": 98
        }
      },
      "source": [
        "building_meta.primary_use.unique()"
      ],
      "execution_count": 0,
      "outputs": [
        {
          "output_type": "execute_result",
          "data": {
            "text/plain": [
              "array(['Education', 'Lodging/residential', 'Office',\n",
              "       'Entertainment/public assembly', 'Other', 'Retail', 'Parking',\n",
              "       'Public services', 'Warehouse/storage', 'Food sales and service',\n",
              "       'Religious worship', 'Healthcare', 'Utility', 'Technology/science',\n",
              "       'Manufacturing/industrial', 'Services'], dtype=object)"
            ]
          },
          "metadata": {
            "tags": []
          },
          "execution_count": 100
        }
      ]
    },
    {
      "cell_type": "code",
      "metadata": {
        "id": "z1MSOwa08Kup",
        "colab_type": "code",
        "outputId": "0c1fc51e-e057-4aa7-a88a-1ea1339b900b",
        "colab": {
          "base_uri": "https://localhost:8080/",
          "height": 98
        }
      },
      "source": [
        "building_meta.isna().sum()"
      ],
      "execution_count": 0,
      "outputs": [
        {
          "output_type": "execute_result",
          "data": {
            "text/plain": [
              "site_id        0\n",
              "building_id    0\n",
              "primary_use    0\n",
              "square_feet    0\n",
              "dtype: int64"
            ]
          },
          "metadata": {
            "tags": []
          },
          "execution_count": 101
        }
      ]
    },
    {
      "cell_type": "markdown",
      "metadata": {
        "id": "puuGskFN8Yj-",
        "colab_type": "text"
      },
      "source": [
        "### 1.3 Weather data\n"
      ]
    },
    {
      "cell_type": "code",
      "metadata": {
        "id": "tfwTGEw38Ky4",
        "colab_type": "code",
        "outputId": "4d4a3dc3-b94b-48fa-c7fb-2724a82dd7ca",
        "colab": {
          "base_uri": "https://localhost:8080/",
          "height": 277
        }
      },
      "source": [
        "weather.describe()"
      ],
      "execution_count": 0,
      "outputs": [
        {
          "output_type": "execute_result",
          "data": {
            "text/html": [
              "<div>\n",
              "<style scoped>\n",
              "    .dataframe tbody tr th:only-of-type {\n",
              "        vertical-align: middle;\n",
              "    }\n",
              "\n",
              "    .dataframe tbody tr th {\n",
              "        vertical-align: top;\n",
              "    }\n",
              "\n",
              "    .dataframe thead th {\n",
              "        text-align: right;\n",
              "    }\n",
              "</style>\n",
              "<table border=\"1\" class=\"dataframe\">\n",
              "  <thead>\n",
              "    <tr style=\"text-align: right;\">\n",
              "      <th></th>\n",
              "      <th>site_id</th>\n",
              "      <th>air_temperature</th>\n",
              "      <th>cloud_coverage</th>\n",
              "      <th>sea_level_pressure</th>\n",
              "      <th>wind_speed</th>\n",
              "    </tr>\n",
              "  </thead>\n",
              "  <tbody>\n",
              "    <tr>\n",
              "      <th>count</th>\n",
              "      <td>139773.000000</td>\n",
              "      <td>139773.000000</td>\n",
              "      <td>139773.000000</td>\n",
              "      <td>139773.000000</td>\n",
              "      <td>139773.000000</td>\n",
              "    </tr>\n",
              "    <tr>\n",
              "      <th>mean</th>\n",
              "      <td>7.478977</td>\n",
              "      <td>14.418672</td>\n",
              "      <td>2.835498</td>\n",
              "      <td>1015.971407</td>\n",
              "      <td>3.558912</td>\n",
              "    </tr>\n",
              "    <tr>\n",
              "      <th>std</th>\n",
              "      <td>4.604744</td>\n",
              "      <td>10.626160</td>\n",
              "      <td>3.157197</td>\n",
              "      <td>7.418949</td>\n",
              "      <td>2.334981</td>\n",
              "    </tr>\n",
              "    <tr>\n",
              "      <th>min</th>\n",
              "      <td>0.000000</td>\n",
              "      <td>-28.900000</td>\n",
              "      <td>0.000000</td>\n",
              "      <td>968.200000</td>\n",
              "      <td>0.000000</td>\n",
              "    </tr>\n",
              "    <tr>\n",
              "      <th>25%</th>\n",
              "      <td>3.000000</td>\n",
              "      <td>7.200000</td>\n",
              "      <td>0.000000</td>\n",
              "      <td>1012.100000</td>\n",
              "      <td>2.100000</td>\n",
              "    </tr>\n",
              "    <tr>\n",
              "      <th>50%</th>\n",
              "      <td>7.000000</td>\n",
              "      <td>15.000000</td>\n",
              "      <td>2.000000</td>\n",
              "      <td>1015.800000</td>\n",
              "      <td>3.100000</td>\n",
              "    </tr>\n",
              "    <tr>\n",
              "      <th>75%</th>\n",
              "      <td>11.000000</td>\n",
              "      <td>22.200000</td>\n",
              "      <td>6.000000</td>\n",
              "      <td>1020.400000</td>\n",
              "      <td>5.000000</td>\n",
              "    </tr>\n",
              "    <tr>\n",
              "      <th>max</th>\n",
              "      <td>15.000000</td>\n",
              "      <td>47.200000</td>\n",
              "      <td>9.000000</td>\n",
              "      <td>1045.500000</td>\n",
              "      <td>19.000000</td>\n",
              "    </tr>\n",
              "  </tbody>\n",
              "</table>\n",
              "</div>"
            ],
            "text/plain": [
              "             site_id  air_temperature  ...  sea_level_pressure     wind_speed\n",
              "count  139773.000000    139773.000000  ...       139773.000000  139773.000000\n",
              "mean        7.478977        14.418672  ...         1015.971407       3.558912\n",
              "std         4.604744        10.626160  ...            7.418949       2.334981\n",
              "min         0.000000       -28.900000  ...          968.200000       0.000000\n",
              "25%         3.000000         7.200000  ...         1012.100000       2.100000\n",
              "50%         7.000000        15.000000  ...         1015.800000       3.100000\n",
              "75%        11.000000        22.200000  ...         1020.400000       5.000000\n",
              "max        15.000000        47.200000  ...         1045.500000      19.000000\n",
              "\n",
              "[8 rows x 5 columns]"
            ]
          },
          "metadata": {
            "tags": []
          },
          "execution_count": 102
        }
      ]
    },
    {
      "cell_type": "markdown",
      "metadata": {
        "id": "6ABdsY2K8pbs",
        "colab_type": "text"
      },
      "source": [
        "- remove precip_depth_1_hr since it has 75% of its values 0 && 50289 NaN"
      ]
    },
    {
      "cell_type": "code",
      "metadata": {
        "id": "r0-Xx1DW8gph",
        "colab_type": "code",
        "outputId": "ca97d65d-dcbe-4c9b-923a-b0d152a0dde2",
        "colab": {
          "base_uri": "https://localhost:8080/",
          "height": 131
        }
      },
      "source": [
        "weather.isna().sum()"
      ],
      "execution_count": 0,
      "outputs": [
        {
          "output_type": "execute_result",
          "data": {
            "text/plain": [
              "site_id               0\n",
              "timestamp             0\n",
              "air_temperature       0\n",
              "cloud_coverage        0\n",
              "sea_level_pressure    0\n",
              "wind_speed            0\n",
              "dtype: int64"
            ]
          },
          "metadata": {
            "tags": []
          },
          "execution_count": 103
        }
      ]
    },
    {
      "cell_type": "code",
      "metadata": {
        "id": "TqedoQWn8guI",
        "colab_type": "code",
        "outputId": "491e7623-ae9e-407f-d920-9a0d014149c0",
        "colab": {
          "base_uri": "https://localhost:8080/",
          "height": 33
        }
      },
      "source": [
        "weather.site_id.unique()"
      ],
      "execution_count": 0,
      "outputs": [
        {
          "output_type": "execute_result",
          "data": {
            "text/plain": [
              "array([ 0,  1,  2,  3,  4,  5,  6,  7,  8,  9, 10, 11, 12, 13, 14, 15])"
            ]
          },
          "metadata": {
            "tags": []
          },
          "execution_count": 104
        }
      ]
    },
    {
      "cell_type": "code",
      "metadata": {
        "id": "-AJiZfmy8bz9",
        "colab_type": "code",
        "outputId": "0da2ad5c-ff34-4a25-ef77-9cc7418ebbdb",
        "colab": {
          "base_uri": "https://localhost:8080/",
          "height": 47
        }
      },
      "source": [
        "weather[ weather.air_temperature.isna() ][['site_id','timestamp']]"
      ],
      "execution_count": 0,
      "outputs": [
        {
          "output_type": "execute_result",
          "data": {
            "text/html": [
              "<div>\n",
              "<style scoped>\n",
              "    .dataframe tbody tr th:only-of-type {\n",
              "        vertical-align: middle;\n",
              "    }\n",
              "\n",
              "    .dataframe tbody tr th {\n",
              "        vertical-align: top;\n",
              "    }\n",
              "\n",
              "    .dataframe thead th {\n",
              "        text-align: right;\n",
              "    }\n",
              "</style>\n",
              "<table border=\"1\" class=\"dataframe\">\n",
              "  <thead>\n",
              "    <tr style=\"text-align: right;\">\n",
              "      <th></th>\n",
              "      <th>site_id</th>\n",
              "      <th>timestamp</th>\n",
              "    </tr>\n",
              "  </thead>\n",
              "  <tbody>\n",
              "  </tbody>\n",
              "</table>\n",
              "</div>"
            ],
            "text/plain": [
              "Empty DataFrame\n",
              "Columns: [site_id, timestamp]\n",
              "Index: []"
            ]
          },
          "metadata": {
            "tags": []
          },
          "execution_count": 105
        }
      ]
    },
    {
      "cell_type": "code",
      "metadata": {
        "id": "FU2tzbql8b5d",
        "colab_type": "code",
        "outputId": "2619fe1b-0c18-4c87-8b75-c99fe1a64501",
        "colab": {
          "base_uri": "https://localhost:8080/",
          "height": 47
        }
      },
      "source": [
        "weather[ weather.cloud_coverage.isna() ][['site_id','timestamp']]"
      ],
      "execution_count": 0,
      "outputs": [
        {
          "output_type": "execute_result",
          "data": {
            "text/html": [
              "<div>\n",
              "<style scoped>\n",
              "    .dataframe tbody tr th:only-of-type {\n",
              "        vertical-align: middle;\n",
              "    }\n",
              "\n",
              "    .dataframe tbody tr th {\n",
              "        vertical-align: top;\n",
              "    }\n",
              "\n",
              "    .dataframe thead th {\n",
              "        text-align: right;\n",
              "    }\n",
              "</style>\n",
              "<table border=\"1\" class=\"dataframe\">\n",
              "  <thead>\n",
              "    <tr style=\"text-align: right;\">\n",
              "      <th></th>\n",
              "      <th>site_id</th>\n",
              "      <th>timestamp</th>\n",
              "    </tr>\n",
              "  </thead>\n",
              "  <tbody>\n",
              "  </tbody>\n",
              "</table>\n",
              "</div>"
            ],
            "text/plain": [
              "Empty DataFrame\n",
              "Columns: [site_id, timestamp]\n",
              "Index: []"
            ]
          },
          "metadata": {
            "tags": []
          },
          "execution_count": 106
        }
      ]
    },
    {
      "cell_type": "code",
      "metadata": {
        "id": "mNNrslvW8KpZ",
        "colab_type": "code",
        "outputId": "9513f6e3-3049-482e-bb8d-57a6774b8301",
        "colab": {
          "base_uri": "https://localhost:8080/",
          "height": 47
        }
      },
      "source": [
        "weather[ weather.sea_level_pressure.isna() ][['site_id','timestamp']]"
      ],
      "execution_count": 0,
      "outputs": [
        {
          "output_type": "execute_result",
          "data": {
            "text/html": [
              "<div>\n",
              "<style scoped>\n",
              "    .dataframe tbody tr th:only-of-type {\n",
              "        vertical-align: middle;\n",
              "    }\n",
              "\n",
              "    .dataframe tbody tr th {\n",
              "        vertical-align: top;\n",
              "    }\n",
              "\n",
              "    .dataframe thead th {\n",
              "        text-align: right;\n",
              "    }\n",
              "</style>\n",
              "<table border=\"1\" class=\"dataframe\">\n",
              "  <thead>\n",
              "    <tr style=\"text-align: right;\">\n",
              "      <th></th>\n",
              "      <th>site_id</th>\n",
              "      <th>timestamp</th>\n",
              "    </tr>\n",
              "  </thead>\n",
              "  <tbody>\n",
              "  </tbody>\n",
              "</table>\n",
              "</div>"
            ],
            "text/plain": [
              "Empty DataFrame\n",
              "Columns: [site_id, timestamp]\n",
              "Index: []"
            ]
          },
          "metadata": {
            "tags": []
          },
          "execution_count": 107
        }
      ]
    },
    {
      "cell_type": "code",
      "metadata": {
        "id": "z4HKoBma8_H7",
        "colab_type": "code",
        "outputId": "c1c5b43a-a1f3-4936-bdee-dce61f57d82c",
        "colab": {
          "base_uri": "https://localhost:8080/",
          "height": 33
        }
      },
      "source": [
        "df=weather[ weather.sea_level_pressure.isna() ][['site_id','timestamp']]\n",
        "df['timestamp']=pd.to_datetime(df.timestamp)\n",
        "df['month']=df.timestamp.dt.month\n",
        "df['day']=df.timestamp.dt.day\n",
        "t=df.groupby(['site_id','month','day']).count()\n",
        "t.timestamp.value_counts()"
      ],
      "execution_count": 0,
      "outputs": [
        {
          "output_type": "execute_result",
          "data": {
            "text/plain": [
              "Series([], Name: timestamp, dtype: int64)"
            ]
          },
          "metadata": {
            "tags": []
          },
          "execution_count": 108
        }
      ]
    },
    {
      "cell_type": "code",
      "metadata": {
        "id": "L4hpmfCh9PVe",
        "colab_type": "code",
        "outputId": "c29c6847-e4b4-4544-9334-8819e5b2cb2c",
        "colab": {
          "base_uri": "https://localhost:8080/",
          "height": 33
        }
      },
      "source": [
        "t=df[df.site_id == 5].groupby(['month','day']).count()\n",
        "t.timestamp.value_counts()"
      ],
      "execution_count": 0,
      "outputs": [
        {
          "output_type": "execute_result",
          "data": {
            "text/plain": [
              "Series([], Name: timestamp, dtype: int64)"
            ]
          },
          "metadata": {
            "tags": []
          },
          "execution_count": 109
        }
      ]
    },
    {
      "cell_type": "markdown",
      "metadata": {
        "id": "me_iD1nH9VbX",
        "colab_type": "text"
      },
      "source": [
        "- even if we have a lot of missing data but if we take a look at our data, we will figure out that we have missing data for some our, so in this case we would be able to fill missing data with near measurement\n",
        "- we will use ffill: propagate last valid observation forward to next valid to fill nan in these cases\n",
        "- we used df to see how many days in a site that we don't take measurments for sea pressure, in site_id 5 we have 355 days (year)"
      ]
    },
    {
      "cell_type": "code",
      "metadata": {
        "id": "kexc6Qc08_Em",
        "colab_type": "code",
        "outputId": "6eac03ea-8fb2-41d3-8d6c-b893a1a5f901",
        "colab": {
          "base_uri": "https://localhost:8080/",
          "height": 163
        }
      },
      "source": [
        "building_meta[building_meta.site_id==5].primary_use.value_counts()"
      ],
      "execution_count": 0,
      "outputs": [
        {
          "output_type": "execute_result",
          "data": {
            "text/plain": [
              "Education                        49\n",
              "Entertainment/public assembly    18\n",
              "Office                           11\n",
              "Public services                   5\n",
              "Manufacturing/industrial          3\n",
              "Other                             1\n",
              "Healthcare                        1\n",
              "Lodging/residential               1\n",
              "Name: primary_use, dtype: int64"
            ]
          },
          "metadata": {
            "tags": []
          },
          "execution_count": 110
        }
      ]
    },
    {
      "cell_type": "code",
      "metadata": {
        "id": "Oua4BuYD8_BA",
        "colab_type": "code",
        "outputId": "92b5ca69-afda-44fd-a0ef-08c49d4f69a3",
        "colab": {
          "base_uri": "https://localhost:8080/",
          "height": 612
        }
      },
      "source": [
        "corrmat=weather.corr()\n",
        "fig,ax=plt.subplots(figsize=(12,10))\n",
        "sns.heatmap(corrmat,annot=True,annot_kws={'size': 12})"
      ],
      "execution_count": 0,
      "outputs": [
        {
          "output_type": "execute_result",
          "data": {
            "text/plain": [
              "<matplotlib.axes._subplots.AxesSubplot at 0x7f5d583f26a0>"
            ]
          },
          "metadata": {
            "tags": []
          },
          "execution_count": 114
        },
        {
          "output_type": "display_data",
          "data": {
            "image/png": "[encoded data removed]",
            "text/plain": [
              "<Figure size 864x720 with 2 Axes>"
            ]
          },
          "metadata": {
            "tags": []
          }
        }
      ]
    },
    {
      "cell_type": "markdown",
      "metadata": {
        "id": "Pp2IsVz-9l5R",
        "colab_type": "text"
      },
      "source": [
        "- # air_temperature & dew_temp are correlated we can remove one of them \n",
        "\n",
        "### 2.Data preparation & feature selection"
      ]
    },
    {
      "cell_type": "code",
      "metadata": {
        "id": "6c-qAWYq4_Xl",
        "colab_type": "code",
        "colab": {}
      },
      "source": [
        "#remove 'year_built','floor_count'\n",
        "building_meta=building_meta[['site_id', 'building_id', 'primary_use', 'square_feet']]\n",
        "#remove 'dew_temperature', \"precip_depth_1_hr\"\n",
        "weather=weather[['site_id', 'timestamp', 'air_temperature', 'cloud_coverage', 'sea_level_pressure', 'wind_speed']]\n",
        "\n",
        "#fill NaNs with ffillna\n",
        "weather['air_temperature'].fillna(method='ffill', inplace = True)\n",
        "weather[\"cloud_coverage\"].fillna(method='ffill', inplace = True)\n",
        "weather['sea_level_pressure'].fillna(method='ffill', inplace = True)\n",
        "weather['wind_speed'].fillna(method='ffill', inplace = True)"
      ],
      "execution_count": 0,
      "outputs": []
    },
    {
      "cell_type": "code",
      "metadata": {
        "id": "iUXEuFpC5CTt",
        "colab_type": "code",
        "colab": {}
      },
      "source": [
        "merged_data=weather.merge(building_meta,left_on='site_id',right_on='site_id',how='left')\n",
        "merged_data=merged_data[['timestamp', 'air_temperature', 'cloud_coverage',\n",
        "       'sea_level_pressure', 'wind_speed', 'building_id', 'primary_use',\n",
        "       'square_feet']]\n",
        "merged_data=merged_data.merge(train,left_on=['building_id','timestamp'],right_on=['building_id','timestamp'],how='left')"
      ],
      "execution_count": 0,
      "outputs": []
    },
    {
      "cell_type": "code",
      "metadata": {
        "id": "4wqEqy6W5IUt",
        "colab_type": "code",
        "colab": {}
      },
      "source": [
        "merged_data['meter'].fillna(method='ffill', inplace = True)\n",
        "merged_data['meter_reading'].fillna(method='ffill', inplace = True)"
      ],
      "execution_count": 0,
      "outputs": []
    },
    {
      "cell_type": "code",
      "metadata": {
        "id": "clB03eZ8Qy1u",
        "colab_type": "code",
        "colab": {}
      },
      "source": [
        "# Scaling some features\n",
        "merged_data['meter_reading']=np.log1p(merged_data['meter_reading'])\n",
        "le=LabelEncoder()\n",
        "merged_data['primary_use']=le.fit_transform(merged_data['primary_use'])\n",
        "scaler1=MinMaxScaler()\n",
        "merged_data[['air_temperature','cloud_coverage','sea_level_pressure','wind_speed','square_feet']]=scaler1.fit_transform(merged_data[['air_temperature','cloud_coverage','sea_level_pressure','wind_speed','square_feet']])\n",
        "# set index = timestamp\n",
        "merged_data.set_index('timestamp',inplace=True)"
      ],
      "execution_count": 0,
      "outputs": []
    },
    {
      "cell_type": "code",
      "metadata": {
        "id": "Ix1Y6ipuZKtC",
        "colab_type": "code",
        "outputId": "e5b6fb64-ecd7-4bac-a607-2039f6108c00",
        "colab": {
          "base_uri": "https://localhost:8080/",
          "height": 220
        }
      },
      "source": [
        "# scaled data\n",
        "merged_data.head()"
      ],
      "execution_count": 0,
      "outputs": [
        {
          "output_type": "execute_result",
          "data": {
            "text/html": [
              "<div>\n",
              "<style scoped>\n",
              "    .dataframe tbody tr th:only-of-type {\n",
              "        vertical-align: middle;\n",
              "    }\n",
              "\n",
              "    .dataframe tbody tr th {\n",
              "        vertical-align: top;\n",
              "    }\n",
              "\n",
              "    .dataframe thead th {\n",
              "        text-align: right;\n",
              "    }\n",
              "</style>\n",
              "<table border=\"1\" class=\"dataframe\">\n",
              "  <thead>\n",
              "    <tr style=\"text-align: right;\">\n",
              "      <th></th>\n",
              "      <th>air_temperature</th>\n",
              "      <th>cloud_coverage</th>\n",
              "      <th>sea_level_pressure</th>\n",
              "      <th>wind_speed</th>\n",
              "      <th>building_id</th>\n",
              "      <th>primary_use</th>\n",
              "      <th>square_feet</th>\n",
              "      <th>meter</th>\n",
              "      <th>meter_reading</th>\n",
              "    </tr>\n",
              "    <tr>\n",
              "      <th>timestamp</th>\n",
              "      <th></th>\n",
              "      <th></th>\n",
              "      <th></th>\n",
              "      <th></th>\n",
              "      <th></th>\n",
              "      <th></th>\n",
              "      <th></th>\n",
              "      <th></th>\n",
              "      <th></th>\n",
              "    </tr>\n",
              "  </thead>\n",
              "  <tbody>\n",
              "    <tr>\n",
              "      <th>2016-01-01 00:00:00</th>\n",
              "      <td>0.708279</td>\n",
              "      <td>0.666667</td>\n",
              "      <td>0.666235</td>\n",
              "      <td>0.0</td>\n",
              "      <td>0</td>\n",
              "      <td>0</td>\n",
              "      <td>0.008173</td>\n",
              "      <td>0.0</td>\n",
              "      <td>0.0</td>\n",
              "    </tr>\n",
              "    <tr>\n",
              "      <th>2016-01-01 00:00:00</th>\n",
              "      <td>0.708279</td>\n",
              "      <td>0.666667</td>\n",
              "      <td>0.666235</td>\n",
              "      <td>0.0</td>\n",
              "      <td>1</td>\n",
              "      <td>0</td>\n",
              "      <td>0.002786</td>\n",
              "      <td>0.0</td>\n",
              "      <td>0.0</td>\n",
              "    </tr>\n",
              "    <tr>\n",
              "      <th>2016-01-01 00:00:00</th>\n",
              "      <td>0.708279</td>\n",
              "      <td>0.666667</td>\n",
              "      <td>0.666235</td>\n",
              "      <td>0.0</td>\n",
              "      <td>2</td>\n",
              "      <td>0</td>\n",
              "      <td>0.005822</td>\n",
              "      <td>0.0</td>\n",
              "      <td>0.0</td>\n",
              "    </tr>\n",
              "    <tr>\n",
              "      <th>2016-01-01 00:00:00</th>\n",
              "      <td>0.708279</td>\n",
              "      <td>0.666667</td>\n",
              "      <td>0.666235</td>\n",
              "      <td>0.0</td>\n",
              "      <td>3</td>\n",
              "      <td>0</td>\n",
              "      <td>0.026754</td>\n",
              "      <td>0.0</td>\n",
              "      <td>0.0</td>\n",
              "    </tr>\n",
              "    <tr>\n",
              "      <th>2016-01-01 00:00:00</th>\n",
              "      <td>0.708279</td>\n",
              "      <td>0.666667</td>\n",
              "      <td>0.666235</td>\n",
              "      <td>0.0</td>\n",
              "      <td>4</td>\n",
              "      <td>0</td>\n",
              "      <td>0.132985</td>\n",
              "      <td>0.0</td>\n",
              "      <td>0.0</td>\n",
              "    </tr>\n",
              "  </tbody>\n",
              "</table>\n",
              "</div>"
            ],
            "text/plain": [
              "                     air_temperature  cloud_coverage  ...  meter  meter_reading\n",
              "timestamp                                             ...                      \n",
              "2016-01-01 00:00:00         0.708279        0.666667  ...    0.0            0.0\n",
              "2016-01-01 00:00:00         0.708279        0.666667  ...    0.0            0.0\n",
              "2016-01-01 00:00:00         0.708279        0.666667  ...    0.0            0.0\n",
              "2016-01-01 00:00:00         0.708279        0.666667  ...    0.0            0.0\n",
              "2016-01-01 00:00:00         0.708279        0.666667  ...    0.0            0.0\n",
              "\n",
              "[5 rows x 9 columns]"
            ]
          },
          "metadata": {
            "tags": []
          },
          "execution_count": 24
        }
      ]
    },
    {
      "cell_type": "code",
      "metadata": {
        "id": "l7mRkgsJwSaB",
        "colab_type": "code",
        "outputId": "7710ccbd-14a7-406e-8f46-2ae683dbcea1",
        "colab": {
          "base_uri": "https://localhost:8080/",
          "height": 33
        }
      },
      "source": [
        "max(list(merged_data.meter_reading))"
      ],
      "execution_count": 0,
      "outputs": [
        {
          "output_type": "execute_result",
          "data": {
            "text/plain": [
              "16.902211829285342"
            ]
          },
          "metadata": {
            "tags": []
          },
          "execution_count": 25
        }
      ]
    },
    {
      "cell_type": "markdown",
      "metadata": {
        "id": "IF8REX61sJY9",
        "colab_type": "text"
      },
      "source": [
        "# Prepare train & test data for LSTM"
      ]
    },
    {
      "cell_type": "code",
      "metadata": {
        "id": "MCLPJ3A0Orr9",
        "colab_type": "code",
        "colab": {}
      },
      "source": [
        "def df_to_cnn_rnn_format(df, train_size=0.5, look_back=5, target_column='target', scale_X=True):\n",
        "    \"\"\"\n",
        "    TODO: output train and test datetime\n",
        "    Input is a Pandas DataFrame. \n",
        "    Output is a np array in the format of (samples, timesteps, features).\n",
        "    \n",
        "    test_size: percentage to use for training\n",
        "    look_back: Amount of previous X values to look at when predicting the current y value\n",
        "    \"\"\"\n",
        "    df = df.copy()\n",
        "\n",
        "    # Make sure the target column is the last column in the dataframe\n",
        "    df['target'] = df[target_column] # Make a copy of the target column\n",
        "    df = df.drop(columns=[target_column]) # Drop the original target column\n",
        "    \n",
        "    target_location = df.shape[1] - 1 # column index number of target\n",
        "    split_index = int(df.shape[0]*train_size) # the index at which to split df into train and test\n",
        "    \n",
        "    # ...train\n",
        "    X_train = df.values[:split_index, :target_location]\n",
        "    y_train = df.values[:split_index, target_location]\n",
        "\n",
        "    # ...test\n",
        "    X_test = df.values[split_index:, :target_location] # original is split_index:-1\n",
        "    y_test = df.values[split_index:, target_location] # original is split_index:-1\n",
        "        \n",
        "    # Reshape the arrays\n",
        "    samples = len(X_train) # in this case 217 samples in the training set\n",
        "    num_features = target_location # All columns before the target column are features\n",
        "\n",
        "    samples_train = X_train.shape[0] - look_back\n",
        "    X_train_reshaped = np.zeros((samples_train, look_back, num_features))\n",
        "    y_train_reshaped = np.zeros((samples_train))\n",
        "\n",
        "    for i in range(samples_train):\n",
        "        y_position = i + look_back\n",
        "        X_train_reshaped[i] = X_train[i:y_position]\n",
        "        y_train_reshaped[i] = y_train[y_position]\n",
        "\n",
        "\n",
        "    samples_test = X_test.shape[0] - look_back\n",
        "    X_test_reshaped = np.zeros((samples_test, look_back, num_features))\n",
        "    y_test_reshaped = np.zeros((samples_test))\n",
        "\n",
        "    for i in range(samples_test):\n",
        "        y_position = i + look_back\n",
        "        X_test_reshaped[i] = X_test[i:y_position]\n",
        "        y_test_reshaped[i] = y_test[y_position]\n",
        "    \n",
        "    return X_train_reshaped, y_train_reshaped, X_test_reshaped, y_test_reshaped"
      ],
      "execution_count": 0,
      "outputs": []
    },
    {
      "cell_type": "code",
      "metadata": {
        "id": "xeGIm0haP73-",
        "colab_type": "code",
        "colab": {}
      },
      "source": [
        "look_back = 5 # 5 hours ago\n",
        "num_features = merged_data.shape[1] - 1\n",
        "train_size = 0.7\n",
        "batch_size=5000\n",
        "\n",
        "X_train, y_train, X_test, y_test = df_to_cnn_rnn_format(df=merged_data, train_size=train_size, look_back=look_back, target_column='meter_reading', scale_X=True)"
      ],
      "execution_count": 0,
      "outputs": []
    },
    {
      "cell_type": "code",
      "metadata": {
        "id": "REo9guQrPXkX",
        "colab_type": "code",
        "outputId": "2f0c5808-0ffa-465a-84a1-8a77f50c038f",
        "colab": {
          "base_uri": "https://localhost:8080/",
          "height": 33
        }
      },
      "source": [
        "X_train.shape"
      ],
      "execution_count": 0,
      "outputs": [
        {
          "output_type": "execute_result",
          "data": {
            "text/plain": [
              "(14318824, 5, 8)"
            ]
          },
          "metadata": {
            "tags": []
          },
          "execution_count": 26
        }
      ]
    },
    {
      "cell_type": "code",
      "metadata": {
        "id": "NCxD7q_9Pino",
        "colab_type": "code",
        "outputId": "ba023fbd-31d4-4036-ac91-4e04e92c8b55",
        "colab": {
          "base_uri": "https://localhost:8080/",
          "height": 33
        }
      },
      "source": [
        "y_train.shape"
      ],
      "execution_count": 0,
      "outputs": [
        {
          "output_type": "execute_result",
          "data": {
            "text/plain": [
              "(14318824,)"
            ]
          },
          "metadata": {
            "tags": []
          },
          "execution_count": 17
        }
      ]
    },
    {
      "cell_type": "markdown",
      "metadata": {
        "id": "zkORr8yjr6sk",
        "colab_type": "text"
      },
      "source": [
        "# 3.Modeling "
      ]
    },
    {
      "cell_type": "markdown",
      "metadata": {
        "id": "wpQOXeYw1nHW",
        "colab_type": "text"
      },
      "source": [
        "## Baseline model: generate random values from selected range"
      ]
    },
    {
      "cell_type": "code",
      "metadata": {
        "id": "h_4gV9qxuP5L",
        "colab_type": "code",
        "outputId": "4ec518ac-5b0f-4c9c-e855-33892281cb3e",
        "colab": {
          "base_uri": "https://localhost:8080/",
          "height": 33
        }
      },
      "source": [
        "# baseline \n",
        "test_steps = (X_train.shape[0] - X_train.shape[0]*train_size - look_back)//batch_size\n",
        "\n",
        "def evaluate_naive_method():\n",
        "    preds=[]\n",
        "    for i in y_test:\n",
        "      preds.append(np.random.uniform(0,5))\n",
        "    print(mean_squared_error(preds,y_test))\n",
        "    \n",
        "evaluate_naive_method()"
      ],
      "execution_count": 0,
      "outputs": [
        {
          "output_type": "stream",
          "text": [
            "11.352903873932433\n"
          ],
          "name": "stdout"
        }
      ]
    },
    {
      "cell_type": "markdown",
      "metadata": {
        "id": "V2v5_gsm13SS",
        "colab_type": "text"
      },
      "source": [
        "## first model"
      ]
    },
    {
      "cell_type": "code",
      "metadata": {
        "id": "-TmOITZRSDR9",
        "colab_type": "code",
        "colab": {}
      },
      "source": [
        "def create_model():\n",
        "    model = Sequential()\n",
        "    model.add(CuDNNLSTM(100, input_shape=(look_back, num_features), return_sequences=True, kernel_initializer='TruncatedNormal'))\n",
        "    model.add(BatchNormalization())\n",
        "    model.add(LeakyReLU())\n",
        "    model.add(Dropout(0.391))\n",
        "    \n",
        "    #1\n",
        "    for _ in range(2):\n",
        "        model.add(CuDNNLSTM(4, kernel_initializer='TruncatedNormal', return_sequences=True))\n",
        "        model.add(BatchNormalization())\n",
        "        model.add(LeakyReLU())\n",
        "        model.add(Dropout(0.04))   \n",
        "\n",
        "    #2\n",
        "    model.add(CuDNNLSTM(32, kernel_initializer='TruncatedNormal', return_sequences=False))\n",
        "    model.add(BatchNormalization())\n",
        "    model.add(LeakyReLU())\n",
        "    model.add(Dropout(0.749))\n",
        "    \n",
        "    #3\n",
        "    for _ in range(0):\n",
        "        model.add(Dense(4, kernel_initializer='TruncatedNormal'))\n",
        "        model.add(BatchNormalization())\n",
        "        model.add(LeakyReLU())\n",
        "        model.add(Dropout(0.056))\n",
        "    #3\n",
        "    for _ in range(8):\n",
        "        model.add(Dense(256, kernel_initializer='TruncatedNormal'))\n",
        "        model.add(BatchNormalization())\n",
        "        model.add(LeakyReLU())\n",
        "        model.add(Dropout(0.212))\n",
        "    #4\n",
        "    for _ in range(1):\n",
        "        model.add(Dense(64, kernel_initializer='TruncatedNormal'))\n",
        "        model.add(BatchNormalization())\n",
        "        model.add(LeakyReLU())\n",
        "        model.add(Dropout(0.727))\n",
        "\n",
        "    #5\n",
        "    model.add(Dense(32, kernel_initializer='TruncatedNormal'))\n",
        "    model.add(BatchNormalization())\n",
        "    model.add(LeakyReLU())\n",
        "    model.add(Dropout(0.450))\n",
        "        \n",
        "    model.add(Dense(1))\n",
        "    \n",
        "    return model"
      ],
      "execution_count": 0,
      "outputs": []
    },
    {
      "cell_type": "code",
      "metadata": {
        "id": "g10S_qNOSDWR",
        "colab_type": "code",
        "outputId": "4335104c-bffe-4ce6-9dc1-32ba08e60482",
        "colab": {
          "base_uri": "https://localhost:8080/",
          "height": 1000
        }
      },
      "source": [
        "bs = 5000\n",
        "lr = 0.001\n",
        "\n",
        "sgd = SGD(lr=0.5, momentum=0.9, decay=0, nesterov=True) # sgd in general yields better results, but needs a lot of tweeking and is slower\n",
        "adam = Adam(lr=lr)\n",
        "nadam = Nadam(lr=lr)\n",
        "\n",
        "model = create_model()\n",
        "\n",
        "# compile & fit\n",
        "model.compile(optimizer='adam', loss ='mse')\n",
        "print(model.summary())"
      ],
      "execution_count": 0,
      "outputs": [
        {
          "output_type": "stream",
          "text": [
            "WARNING:tensorflow:From /usr/local/lib/python3.6/dist-packages/keras/backend/tensorflow_backend.py:66: The name tf.get_default_graph is deprecated. Please use tf.compat.v1.get_default_graph instead.\n",
            "\n",
            "WARNING:tensorflow:From /usr/local/lib/python3.6/dist-packages/keras/backend/tensorflow_backend.py:541: The name tf.placeholder is deprecated. Please use tf.compat.v1.placeholder instead.\n",
            "\n",
            "WARNING:tensorflow:From /usr/local/lib/python3.6/dist-packages/keras/backend/tensorflow_backend.py:4479: The name tf.truncated_normal is deprecated. Please use tf.random.truncated_normal instead.\n",
            "\n",
            "WARNING:tensorflow:From /usr/local/lib/python3.6/dist-packages/keras/backend/tensorflow_backend.py:148: The name tf.placeholder_with_default is deprecated. Please use tf.compat.v1.placeholder_with_default instead.\n",
            "\n",
            "WARNING:tensorflow:From /usr/local/lib/python3.6/dist-packages/keras/backend/tensorflow_backend.py:3733: calling dropout (from tensorflow.python.ops.nn_ops) with keep_prob is deprecated and will be removed in a future version.\n",
            "Instructions for updating:\n",
            "Please use `rate` instead of `keep_prob`. Rate should be set to `rate = 1 - keep_prob`.\n",
            "WARNING:tensorflow:Large dropout rate: 0.749 (>0.5). In TensorFlow 2.x, dropout() uses dropout rate instead of keep_prob. Please ensure that this is intended.\n",
            "WARNING:tensorflow:Large dropout rate: 0.727 (>0.5). In TensorFlow 2.x, dropout() uses dropout rate instead of keep_prob. Please ensure that this is intended.\n",
            "WARNING:tensorflow:From /usr/local/lib/python3.6/dist-packages/keras/backend/tensorflow_backend.py:4432: The name tf.random_uniform is deprecated. Please use tf.random.uniform instead.\n",
            "\n",
            "WARNING:tensorflow:From /usr/local/lib/python3.6/dist-packages/keras/optimizers.py:793: The name tf.train.Optimizer is deprecated. Please use tf.compat.v1.train.Optimizer instead.\n",
            "\n",
            "Model: \"sequential_1\"\n",
            "_________________________________________________________________\n",
            "Layer (type)                 Output Shape              Param #   \n",
            "=================================================================\n",
            "cu_dnnlstm_1 (CuDNNLSTM)     (None, 5, 100)            44000     \n",
            "_________________________________________________________________\n",
            "batch_normalization_1 (Batch (None, 5, 100)            400       \n",
            "_________________________________________________________________\n",
            "leaky_re_lu_1 (LeakyReLU)    (None, 5, 100)            0         \n",
            "_________________________________________________________________\n",
            "dropout_1 (Dropout)          (None, 5, 100)            0         \n",
            "_________________________________________________________________\n",
            "cu_dnnlstm_2 (CuDNNLSTM)     (None, 5, 4)              1696      \n",
            "_________________________________________________________________\n",
            "batch_normalization_2 (Batch (None, 5, 4)              16        \n",
            "_________________________________________________________________\n",
            "leaky_re_lu_2 (LeakyReLU)    (None, 5, 4)              0         \n",
            "_________________________________________________________________\n",
            "dropout_2 (Dropout)          (None, 5, 4)              0         \n",
            "_________________________________________________________________\n",
            "cu_dnnlstm_3 (CuDNNLSTM)     (None, 5, 4)              160       \n",
            "_________________________________________________________________\n",
            "batch_normalization_3 (Batch (None, 5, 4)              16        \n",
            "_________________________________________________________________\n",
            "leaky_re_lu_3 (LeakyReLU)    (None, 5, 4)              0         \n",
            "_________________________________________________________________\n",
            "dropout_3 (Dropout)          (None, 5, 4)              0         \n",
            "_________________________________________________________________\n",
            "cu_dnnlstm_4 (CuDNNLSTM)     (None, 32)                4864      \n",
            "_________________________________________________________________\n",
            "batch_normalization_4 (Batch (None, 32)                128       \n",
            "_________________________________________________________________\n",
            "leaky_re_lu_4 (LeakyReLU)    (None, 32)                0         \n",
            "_________________________________________________________________\n",
            "dropout_4 (Dropout)          (None, 32)                0         \n",
            "_________________________________________________________________\n",
            "dense_1 (Dense)              (None, 256)               8448      \n",
            "_________________________________________________________________\n",
            "batch_normalization_5 (Batch (None, 256)               1024      \n",
            "_________________________________________________________________\n",
            "leaky_re_lu_5 (LeakyReLU)    (None, 256)               0         \n",
            "_________________________________________________________________\n",
            "dropout_5 (Dropout)          (None, 256)               0         \n",
            "_________________________________________________________________\n",
            "dense_2 (Dense)              (None, 256)               65792     \n",
            "_________________________________________________________________\n",
            "batch_normalization_6 (Batch (None, 256)               1024      \n",
            "_________________________________________________________________\n",
            "leaky_re_lu_6 (LeakyReLU)    (None, 256)               0         \n",
            "_________________________________________________________________\n",
            "dropout_6 (Dropout)          (None, 256)               0         \n",
            "_________________________________________________________________\n",
            "dense_3 (Dense)              (None, 256)               65792     \n",
            "_________________________________________________________________\n",
            "batch_normalization_7 (Batch (None, 256)               1024      \n",
            "_________________________________________________________________\n",
            "leaky_re_lu_7 (LeakyReLU)    (None, 256)               0         \n",
            "_________________________________________________________________\n",
            "dropout_7 (Dropout)          (None, 256)               0         \n",
            "_________________________________________________________________\n",
            "dense_4 (Dense)              (None, 256)               65792     \n",
            "_________________________________________________________________\n",
            "batch_normalization_8 (Batch (None, 256)               1024      \n",
            "_________________________________________________________________\n",
            "leaky_re_lu_8 (LeakyReLU)    (None, 256)               0         \n",
            "_________________________________________________________________\n",
            "dropout_8 (Dropout)          (None, 256)               0         \n",
            "_________________________________________________________________\n",
            "dense_5 (Dense)              (None, 256)               65792     \n",
            "_________________________________________________________________\n",
            "batch_normalization_9 (Batch (None, 256)               1024      \n",
            "_________________________________________________________________\n",
            "leaky_re_lu_9 (LeakyReLU)    (None, 256)               0         \n",
            "_________________________________________________________________\n",
            "dropout_9 (Dropout)          (None, 256)               0         \n",
            "_________________________________________________________________\n",
            "dense_6 (Dense)              (None, 256)               65792     \n",
            "_________________________________________________________________\n",
            "batch_normalization_10 (Batc (None, 256)               1024      \n",
            "_________________________________________________________________\n",
            "leaky_re_lu_10 (LeakyReLU)   (None, 256)               0         \n",
            "_________________________________________________________________\n",
            "dropout_10 (Dropout)         (None, 256)               0         \n",
            "_________________________________________________________________\n",
            "dense_7 (Dense)              (None, 256)               65792     \n",
            "_________________________________________________________________\n",
            "batch_normalization_11 (Batc (None, 256)               1024      \n",
            "_________________________________________________________________\n",
            "leaky_re_lu_11 (LeakyReLU)   (None, 256)               0         \n",
            "_________________________________________________________________\n",
            "dropout_11 (Dropout)         (None, 256)               0         \n",
            "_________________________________________________________________\n",
            "dense_8 (Dense)              (None, 256)               65792     \n",
            "_________________________________________________________________\n",
            "batch_normalization_12 (Batc (None, 256)               1024      \n",
            "_________________________________________________________________\n",
            "leaky_re_lu_12 (LeakyReLU)   (None, 256)               0         \n",
            "_________________________________________________________________\n",
            "dropout_12 (Dropout)         (None, 256)               0         \n",
            "_________________________________________________________________\n",
            "dense_9 (Dense)              (None, 64)                16448     \n",
            "_________________________________________________________________\n",
            "batch_normalization_13 (Batc (None, 64)                256       \n",
            "_________________________________________________________________\n",
            "leaky_re_lu_13 (LeakyReLU)   (None, 64)                0         \n",
            "_________________________________________________________________\n",
            "dropout_13 (Dropout)         (None, 64)                0         \n",
            "_________________________________________________________________\n",
            "dense_10 (Dense)             (None, 32)                2080      \n",
            "_________________________________________________________________\n",
            "batch_normalization_14 (Batc (None, 32)                128       \n",
            "_________________________________________________________________\n",
            "leaky_re_lu_14 (LeakyReLU)   (None, 32)                0         \n",
            "_________________________________________________________________\n",
            "dropout_14 (Dropout)         (None, 32)                0         \n",
            "_________________________________________________________________\n",
            "dense_11 (Dense)             (None, 1)                 33        \n",
            "=================================================================\n",
            "Total params: 547,409\n",
            "Trainable params: 542,841\n",
            "Non-trainable params: 4,568\n",
            "_________________________________________________________________\n",
            "None\n"
          ],
          "name": "stdout"
        }
      ]
    },
    {
      "cell_type": "code",
      "metadata": {
        "id": "cI0icAr_SDbi",
        "colab_type": "code",
        "outputId": "30f4212e-7094-4e64-a06d-8ca404e4eb29",
        "colab": {
          "base_uri": "https://localhost:8080/",
          "height": 1000
        }
      },
      "source": [
        "history=model.fit(X_train, y_train, epochs=30, batch_size=bs, validation_split=0.2,\n",
        "         verbose=1,)\n",
        " \n"
      ],
      "execution_count": 0,
      "outputs": [
        {
          "output_type": "stream",
          "text": [
            "Train on 11455059 samples, validate on 2863765 samples\n",
            "Epoch 1/30\n",
            "11455059/11455059 [==============================] - 97s 8us/step - loss: 4.0372 - val_loss: 4.9669\n",
            "Epoch 2/30\n",
            "11455059/11455059 [==============================] - 97s 8us/step - loss: 3.9225 - val_loss: 4.8752\n",
            "Epoch 3/30\n",
            "11455059/11455059 [==============================] - 97s 8us/step - loss: 3.8951 - val_loss: 4.9081\n",
            "Epoch 4/30\n",
            "11455059/11455059 [==============================] - 97s 8us/step - loss: 3.8844 - val_loss: 4.8782\n",
            "Epoch 5/30\n",
            "11455059/11455059 [==============================] - 97s 8us/step - loss: 3.8734 - val_loss: 4.8866\n",
            "Epoch 6/30\n",
            "11455059/11455059 [==============================] - 96s 8us/step - loss: 3.8751 - val_loss: 4.8845\n",
            "Epoch 7/30\n",
            "11455059/11455059 [==============================] - 96s 8us/step - loss: 3.8616 - val_loss: 4.8567\n",
            "Epoch 8/30\n",
            "11455059/11455059 [==============================] - 97s 8us/step - loss: 3.8463 - val_loss: 4.8995\n",
            "Epoch 9/30\n",
            "11455059/11455059 [==============================] - 97s 8us/step - loss: 3.8387 - val_loss: 4.8742\n",
            "Epoch 10/30\n",
            "11455059/11455059 [==============================] - 96s 8us/step - loss: 3.8327 - val_loss: 4.8450\n",
            "Epoch 11/30\n",
            "11455059/11455059 [==============================] - 97s 8us/step - loss: 3.8310 - val_loss: 4.8425\n",
            "Epoch 12/30\n",
            "11455059/11455059 [==============================] - 97s 8us/step - loss: 3.8253 - val_loss: 4.8433\n",
            "Epoch 13/30\n",
            "11455059/11455059 [==============================] - 97s 8us/step - loss: 3.8268 - val_loss: 4.8640\n",
            "Epoch 14/30\n",
            "11455059/11455059 [==============================] - 97s 8us/step - loss: 3.8297 - val_loss: 4.8449\n",
            "Epoch 15/30\n",
            "11455059/11455059 [==============================] - 97s 8us/step - loss: 3.8249 - val_loss: 4.8441\n",
            "Epoch 16/30\n",
            "11455059/11455059 [==============================] - 96s 8us/step - loss: 3.8228 - val_loss: 4.8756\n",
            "Epoch 17/30\n",
            "11455059/11455059 [==============================] - 97s 8us/step - loss: 3.8175 - val_loss: 4.8647\n",
            "Epoch 18/30\n",
            "11455059/11455059 [==============================] - 96s 8us/step - loss: 3.8160 - val_loss: 4.8269\n",
            "Epoch 19/30\n",
            "11455059/11455059 [==============================] - 96s 8us/step - loss: 3.8222 - val_loss: 4.8868\n",
            "Epoch 20/30\n",
            "11455059/11455059 [==============================] - 95s 8us/step - loss: 3.8183 - val_loss: 4.8545\n",
            "Epoch 21/30\n",
            "11455059/11455059 [==============================] - 96s 8us/step - loss: 3.8106 - val_loss: 4.8689\n",
            "Epoch 22/30\n",
            "11455059/11455059 [==============================] - 96s 8us/step - loss: 3.8251 - val_loss: 4.8719\n",
            "Epoch 23/30\n",
            "11455059/11455059 [==============================] - 95s 8us/step - loss: 3.8205 - val_loss: 4.8730\n",
            "Epoch 24/30\n",
            "11455059/11455059 [==============================] - 96s 8us/step - loss: 3.8188 - val_loss: 4.8893\n",
            "Epoch 25/30\n",
            "11455059/11455059 [==============================] - 96s 8us/step - loss: 3.8236 - val_loss: 4.8690\n",
            "Epoch 26/30\n",
            "11455059/11455059 [==============================] - 95s 8us/step - loss: 3.8280 - val_loss: 4.8581\n",
            "Epoch 27/30\n",
            "11455059/11455059 [==============================] - 95s 8us/step - loss: 3.8315 - val_loss: 4.8661\n",
            "Epoch 28/30\n",
            "11455059/11455059 [==============================] - 95s 8us/step - loss: 3.8327 - val_loss: 4.8617\n",
            "Epoch 29/30\n",
            "11455059/11455059 [==============================] - 94s 8us/step - loss: 3.8261 - val_loss: 4.8867\n",
            "Epoch 30/30\n",
            "11455059/11455059 [==============================] - 95s 8us/step - loss: 3.8206 - val_loss: 4.8736\n"
          ],
          "name": "stdout"
        }
      ]
    },
    {
      "cell_type": "code",
      "metadata": {
        "id": "pg4PLva5ntXS",
        "colab_type": "code",
        "outputId": "22467897-5073-4dcf-f461-c72c9aac36ee",
        "colab": {
          "base_uri": "https://localhost:8080/",
          "height": 295
        }
      },
      "source": [
        "plt.figure(figsize=(8,4))\n",
        "plt.plot(history.history['loss'], label='Train Loss')\n",
        "plt.plot(history.history['val_loss'], label='Test Loss')\n",
        "plt.title('model loss')\n",
        "plt.ylabel('loss')\n",
        "plt.xlabel('epochs')\n",
        "plt.legend(loc='upper left')\n",
        "plt.show()"
      ],
      "execution_count": 0,
      "outputs": [
        {
          "output_type": "display_data",
          "data": {
            "image/png": "[encoded data removed]",
            "text/plain": [
              "<Figure size 576x288 with 1 Axes>"
            ]
          },
          "metadata": {
            "tags": []
          }
        }
      ]
    },
    {
      "cell_type": "markdown",
      "metadata": {
        "id": "SvDXShRh19-O",
        "colab_type": "text"
      },
      "source": [
        "## Second model"
      ]
    },
    {
      "cell_type": "code",
      "metadata": {
        "id": "FzKW0XzXjBtC",
        "colab_type": "code",
        "outputId": "78cbde11-9121-4c4f-b67a-c6346104c5cb",
        "colab": {
          "base_uri": "https://localhost:8080/",
          "height": 866
        }
      },
      "source": [
        "model = Sequential()\n",
        "model.add(LSTM(4, input_shape=(X_train.shape[1], X_train.shape[2])))\n",
        "model.add(Dropout(0.2))\n",
        "model.add(Dense(1))\n",
        "model.compile(loss='mean_squared_error', optimizer='adam')\n",
        "\n",
        "history = model.fit(X_train, y_train, epochs=2, batch_size=5000, validation_data=(X_test, y_test))\n",
        "\n",
        "model.summary()"
      ],
      "execution_count": 0,
      "outputs": [
        {
          "output_type": "stream",
          "text": [
            "WARNING:tensorflow:From /usr/local/lib/python3.6/dist-packages/keras/backend/tensorflow_backend.py:66: The name tf.get_default_graph is deprecated. Please use tf.compat.v1.get_default_graph instead.\n",
            "\n",
            "WARNING:tensorflow:From /usr/local/lib/python3.6/dist-packages/keras/backend/tensorflow_backend.py:541: The name tf.placeholder is deprecated. Please use tf.compat.v1.placeholder instead.\n",
            "\n",
            "WARNING:tensorflow:From /usr/local/lib/python3.6/dist-packages/keras/backend/tensorflow_backend.py:4432: The name tf.random_uniform is deprecated. Please use tf.random.uniform instead.\n",
            "\n",
            "WARNING:tensorflow:From /usr/local/lib/python3.6/dist-packages/keras/backend/tensorflow_backend.py:148: The name tf.placeholder_with_default is deprecated. Please use tf.compat.v1.placeholder_with_default instead.\n",
            "\n",
            "WARNING:tensorflow:From /usr/local/lib/python3.6/dist-packages/keras/backend/tensorflow_backend.py:3733: calling dropout (from tensorflow.python.ops.nn_ops) with keep_prob is deprecated and will be removed in a future version.\n",
            "Instructions for updating:\n",
            "Please use `rate` instead of `keep_prob`. Rate should be set to `rate = 1 - keep_prob`.\n",
            "WARNING:tensorflow:From /usr/local/lib/python3.6/dist-packages/keras/optimizers.py:793: The name tf.train.Optimizer is deprecated. Please use tf.compat.v1.train.Optimizer instead.\n",
            "\n",
            "WARNING:tensorflow:From /usr/local/lib/python3.6/dist-packages/tensorflow_core/python/ops/math_grad.py:1424: where (from tensorflow.python.ops.array_ops) is deprecated and will be removed in a future version.\n",
            "Instructions for updating:\n",
            "Use tf.where in 2.0, which has the same broadcast rule as np.where\n",
            "WARNING:tensorflow:From /usr/local/lib/python3.6/dist-packages/keras/backend/tensorflow_backend.py:1033: The name tf.assign_add is deprecated. Please use tf.compat.v1.assign_add instead.\n",
            "\n",
            "WARNING:tensorflow:From /usr/local/lib/python3.6/dist-packages/keras/backend/tensorflow_backend.py:1020: The name tf.assign is deprecated. Please use tf.compat.v1.assign instead.\n",
            "\n",
            "WARNING:tensorflow:From /usr/local/lib/python3.6/dist-packages/keras/backend/tensorflow_backend.py:3005: The name tf.Session is deprecated. Please use tf.compat.v1.Session instead.\n",
            "\n",
            "Train on 14318824 samples, validate on 6136637 samples\n",
            "Epoch 1/2\n",
            "WARNING:tensorflow:From /usr/local/lib/python3.6/dist-packages/keras/backend/tensorflow_backend.py:190: The name tf.get_default_session is deprecated. Please use tf.compat.v1.get_default_session instead.\n",
            "\n",
            "WARNING:tensorflow:From /usr/local/lib/python3.6/dist-packages/keras/backend/tensorflow_backend.py:197: The name tf.ConfigProto is deprecated. Please use tf.compat.v1.ConfigProto instead.\n",
            "\n",
            "WARNING:tensorflow:From /usr/local/lib/python3.6/dist-packages/keras/backend/tensorflow_backend.py:207: The name tf.global_variables is deprecated. Please use tf.compat.v1.global_variables instead.\n",
            "\n",
            "WARNING:tensorflow:From /usr/local/lib/python3.6/dist-packages/keras/backend/tensorflow_backend.py:216: The name tf.is_variable_initialized is deprecated. Please use tf.compat.v1.is_variable_initialized instead.\n",
            "\n",
            "WARNING:tensorflow:From /usr/local/lib/python3.6/dist-packages/keras/backend/tensorflow_backend.py:223: The name tf.variables_initializer is deprecated. Please use tf.compat.v1.variables_initializer instead.\n",
            "\n",
            "14318824/14318824 [==============================] - 59s 4us/step - loss: 5.8673 - val_loss: 5.8398\n",
            "Epoch 2/2\n",
            "14318824/14318824 [==============================] - 49s 3us/step - loss: 4.5462 - val_loss: 5.2470\n",
            "Model: \"sequential_1\"\n",
            "_________________________________________________________________\n",
            "Layer (type)                 Output Shape              Param #   \n",
            "=================================================================\n",
            "lstm_1 (LSTM)                (None, 4)                 208       \n",
            "_________________________________________________________________\n",
            "dropout_1 (Dropout)          (None, 4)                 0         \n",
            "_________________________________________________________________\n",
            "dense_1 (Dense)              (None, 1)                 5         \n",
            "=================================================================\n",
            "Total params: 213\n",
            "Trainable params: 213\n",
            "Non-trainable params: 0\n",
            "_________________________________________________________________\n"
          ],
          "name": "stdout"
        }
      ]
    },
    {
      "cell_type": "code",
      "metadata": {
        "id": "DrRelZFW0ylm",
        "colab_type": "code",
        "outputId": "744875a8-aec3-4432-afda-21b67470de52",
        "colab": {
          "base_uri": "https://localhost:8080/",
          "height": 196
        }
      },
      "source": [
        "history=model.fit(X_train, y_train, epochs=5, batch_size=batch_size, validation_split=0.2,\n",
        "         verbose=1,)"
      ],
      "execution_count": 0,
      "outputs": [
        {
          "output_type": "stream",
          "text": [
            "Train on 11455059 samples, validate on 2863765 samples\n",
            "Epoch 1/5\n",
            "11455059/11455059 [==============================] - 37s 3us/step - loss: 3.8817 - val_loss: 4.9452\n",
            "Epoch 2/5\n",
            "11455059/11455059 [==============================] - 37s 3us/step - loss: 3.8070 - val_loss: 4.7430\n",
            "Epoch 3/5\n",
            "11455059/11455059 [==============================] - 37s 3us/step - loss: 3.7803 - val_loss: 4.7588\n",
            "Epoch 4/5\n",
            "11455059/11455059 [==============================] - 36s 3us/step - loss: 3.7656 - val_loss: 4.7512\n",
            "Epoch 5/5\n",
            "11455059/11455059 [==============================] - 36s 3us/step - loss: 3.7506 - val_loss: 4.7292\n"
          ],
          "name": "stdout"
        }
      ]
    },
    {
      "cell_type": "code",
      "metadata": {
        "id": "Hx7FXkbG0y8F",
        "colab_type": "code",
        "colab": {}
      },
      "source": [
        "plt.figure(figsize=(8,4))\n",
        "plt.plot(history.history['loss'], label='Train Loss')\n",
        "plt.plot(history.history['val_loss'], label='Test Loss')\n",
        "plt.title('model loss')\n",
        "plt.ylabel('loss')\n",
        "plt.xlabel('epochs')\n",
        "plt.legend(loc='upper left')\n",
        "plt.show()"
      ],
      "execution_count": 0,
      "outputs": []
    },
    {
      "cell_type": "markdown",
      "metadata": {
        "id": "RA_uaSSs2HYX",
        "colab_type": "text"
      },
      "source": [
        "## Third model"
      ]
    },
    {
      "cell_type": "code",
      "metadata": {
        "id": "VYqRR0pr08AS",
        "colab_type": "code",
        "colab": {}
      },
      "source": [
        "model = Sequential()\n",
        "model.add(GRU(32, \n",
        "               input_shape=(X_train.shape[1], X_train.shape[2]), \n",
        "               dropout=0.1,\n",
        "               recurrent_dropout= 0.5,\n",
        "               return_sequences=True\n",
        "              ))\n",
        "\n",
        "model.add(GRU(64, \n",
        "               activation='relu', \n",
        "               dropout=0.1,\n",
        "               recurrent_dropout= 0.5,\n",
        "              ))\n",
        "\n",
        "model.add(Dense(1))\n",
        "\n",
        "model.compile(optimizer='rmsprop', loss='mse')\n",
        "\n",
        "history = model.fit(X_train, y_train, epochs=2, batch_size=5000, validation_data=(X_test, y_test))\n",
        "\n",
        "model.summary()"
      ],
      "execution_count": 0,
      "outputs": []
    },
    {
      "cell_type": "code",
      "metadata": {
        "id": "HhE1sD_H079F",
        "colab_type": "code",
        "colab": {}
      },
      "source": [
        "history=model.fit(X_train, y_train, epochs=30, batch_size=bs, validation_split=0.2,\n",
        "         verbose=1,)"
      ],
      "execution_count": 0,
      "outputs": []
    },
    {
      "cell_type": "code",
      "metadata": {
        "id": "6-mk8JW-2wb5",
        "colab_type": "code",
        "colab": {}
      },
      "source": [
        "plt.figure(figsize=(8,4))\n",
        "plt.plot(history.history['loss'], label='Train Loss')\n",
        "plt.plot(history.history['val_loss'], label='Test Loss')\n",
        "plt.title('model loss')\n",
        "plt.ylabel('loss')\n",
        "plt.xlabel('epochs')\n",
        "plt.legend(loc='upper left')\n",
        "plt.show()"
      ],
      "execution_count": 0,
      "outputs": []
    },
    {
      "cell_type": "markdown",
      "metadata": {
        "id": "Sr-hngta2NJ0",
        "colab_type": "text"
      },
      "source": [
        "## Fourth model using only target "
      ]
    },
    {
      "cell_type": "code",
      "metadata": {
        "id": "F_YSg9lp5lfX",
        "colab_type": "code",
        "outputId": "a868f25b-7e9f-439c-fad0-4e49d51fa6a6",
        "colab": {
          "base_uri": "https://localhost:8080/",
          "height": 866
        }
      },
      "source": [
        "# Modeling using only target (without features)\n",
        "model = Sequential()\n",
        "model.add(LSTM(100, input_shape=(X_train.shape[1], X_train.shape[2])))\n",
        "model.add(Dropout(0.2))\n",
        "model.add(Dense(1))\n",
        "model.compile(loss='mean_squared_error', optimizer='adam')\n",
        "\n",
        "history = model.fit(X_train, Y_train, epochs=2, batch_size=1024, validation_data=(X_test, Y_test))\n",
        "\n",
        "model.summary()"
      ],
      "execution_count": 0,
      "outputs": [
        {
          "output_type": "stream",
          "text": [
            "WARNING:tensorflow:From /usr/local/lib/python3.6/dist-packages/keras/backend/tensorflow_backend.py:66: The name tf.get_default_graph is deprecated. Please use tf.compat.v1.get_default_graph instead.\n",
            "\n",
            "WARNING:tensorflow:From /usr/local/lib/python3.6/dist-packages/keras/backend/tensorflow_backend.py:541: The name tf.placeholder is deprecated. Please use tf.compat.v1.placeholder instead.\n",
            "\n",
            "WARNING:tensorflow:From /usr/local/lib/python3.6/dist-packages/keras/backend/tensorflow_backend.py:4432: The name tf.random_uniform is deprecated. Please use tf.random.uniform instead.\n",
            "\n",
            "WARNING:tensorflow:From /usr/local/lib/python3.6/dist-packages/keras/backend/tensorflow_backend.py:148: The name tf.placeholder_with_default is deprecated. Please use tf.compat.v1.placeholder_with_default instead.\n",
            "\n",
            "WARNING:tensorflow:From /usr/local/lib/python3.6/dist-packages/keras/backend/tensorflow_backend.py:3733: calling dropout (from tensorflow.python.ops.nn_ops) with keep_prob is deprecated and will be removed in a future version.\n",
            "Instructions for updating:\n",
            "Please use `rate` instead of `keep_prob`. Rate should be set to `rate = 1 - keep_prob`.\n",
            "WARNING:tensorflow:From /usr/local/lib/python3.6/dist-packages/keras/optimizers.py:793: The name tf.train.Optimizer is deprecated. Please use tf.compat.v1.train.Optimizer instead.\n",
            "\n",
            "WARNING:tensorflow:From /usr/local/lib/python3.6/dist-packages/tensorflow_core/python/ops/math_grad.py:1424: where (from tensorflow.python.ops.array_ops) is deprecated and will be removed in a future version.\n",
            "Instructions for updating:\n",
            "Use tf.where in 2.0, which has the same broadcast rule as np.where\n",
            "WARNING:tensorflow:From /usr/local/lib/python3.6/dist-packages/keras/backend/tensorflow_backend.py:1033: The name tf.assign_add is deprecated. Please use tf.compat.v1.assign_add instead.\n",
            "\n",
            "WARNING:tensorflow:From /usr/local/lib/python3.6/dist-packages/keras/backend/tensorflow_backend.py:1020: The name tf.assign is deprecated. Please use tf.compat.v1.assign instead.\n",
            "\n",
            "WARNING:tensorflow:From /usr/local/lib/python3.6/dist-packages/keras/backend/tensorflow_backend.py:3005: The name tf.Session is deprecated. Please use tf.compat.v1.Session instead.\n",
            "\n",
            "Train on 14318798 samples, validate on 6136611 samples\n",
            "Epoch 1/2\n",
            "WARNING:tensorflow:From /usr/local/lib/python3.6/dist-packages/keras/backend/tensorflow_backend.py:190: The name tf.get_default_session is deprecated. Please use tf.compat.v1.get_default_session instead.\n",
            "\n",
            "WARNING:tensorflow:From /usr/local/lib/python3.6/dist-packages/keras/backend/tensorflow_backend.py:197: The name tf.ConfigProto is deprecated. Please use tf.compat.v1.ConfigProto instead.\n",
            "\n",
            "WARNING:tensorflow:From /usr/local/lib/python3.6/dist-packages/keras/backend/tensorflow_backend.py:207: The name tf.global_variables is deprecated. Please use tf.compat.v1.global_variables instead.\n",
            "\n",
            "WARNING:tensorflow:From /usr/local/lib/python3.6/dist-packages/keras/backend/tensorflow_backend.py:216: The name tf.is_variable_initialized is deprecated. Please use tf.compat.v1.is_variable_initialized instead.\n",
            "\n",
            "WARNING:tensorflow:From /usr/local/lib/python3.6/dist-packages/keras/backend/tensorflow_backend.py:223: The name tf.variables_initializer is deprecated. Please use tf.compat.v1.variables_initializer instead.\n",
            "\n",
            "14318798/14318798 [==============================] - 335s 23us/step - loss: 2.2350 - val_loss: 4.7402\n",
            "Epoch 2/2\n",
            "14318798/14318798 [==============================] - 328s 23us/step - loss: 1.6303 - val_loss: 4.7438\n",
            "Model: \"sequential_1\"\n",
            "_________________________________________________________________\n",
            "Layer (type)                 Output Shape              Param #   \n",
            "=================================================================\n",
            "lstm_1 (LSTM)                (None, 100)               52400     \n",
            "_________________________________________________________________\n",
            "dropout_1 (Dropout)          (None, 100)               0         \n",
            "_________________________________________________________________\n",
            "dense_1 (Dense)              (None, 1)                 101       \n",
            "=================================================================\n",
            "Total params: 52,501\n",
            "Trainable params: 52,501\n",
            "Non-trainable params: 0\n",
            "_________________________________________________________________\n"
          ],
          "name": "stdout"
        }
      ]
    },
    {
      "cell_type": "code",
      "metadata": {
        "id": "WPRbcWp66Ssn",
        "colab_type": "code",
        "outputId": "e5c1094b-9917-4ec0-9ea2-6508287a3218",
        "colab": {
          "base_uri": "https://localhost:8080/",
          "height": 295
        }
      },
      "source": [
        "import matplotlib.pyplot as plt\n",
        "\n",
        "plt.figure(figsize=(8,4))\n",
        "plt.plot(history.history['loss'], label='Train Loss')\n",
        "plt.plot(history.history['val_loss'], label='Test Loss')\n",
        "plt.title('model loss')\n",
        "plt.ylabel('loss')\n",
        "plt.xlabel('epochs')\n",
        "plt.legend(loc='upper left')\n",
        "plt.show();"
      ],
      "execution_count": 0,
      "outputs": [
        {
          "output_type": "display_data",
          "data": {
            "image/png": "[encoded data removed]",
            "text/plain": [
              "<Figure size 576x288 with 1 Axes>"
            ]
          },
          "metadata": {
            "tags": []
          }
        }
      ]
    },
    {
      "cell_type": "markdown",
      "metadata": {
        "id": "TRXmV4yc0X5a",
        "colab_type": "text"
      },
      "source": [
        "# Save Model"
      ]
    },
    {
      "cell_type": "code",
      "metadata": {
        "id": "oyE5g01HnZ2Y",
        "colab_type": "code",
        "colab": {}
      },
      "source": [
        "model.save('my_model.h5')  # creates a HDF5 file 'my_model.h5'"
      ],
      "execution_count": 0,
      "outputs": []
    }
  ]
}